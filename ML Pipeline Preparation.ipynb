{
 "cells": [
  {
   "cell_type": "markdown",
   "metadata": {},
   "source": [
    "# ML Pipeline Preparation\n",
    "Follow the instructions below to help you create your ML pipeline.\n",
    "### 1. Import libraries and load data from database.\n",
    "- Import Python libraries\n",
    "- Load dataset from database with [`read_sql_table`](https://pandas.pydata.org/pandas-docs/stable/generated/pandas.read_sql_table.html)\n",
    "- Define feature and target variables X and Y"
   ]
  },
  {
   "cell_type": "code",
   "execution_count": 1,
   "metadata": {
    "scrolled": false
   },
   "outputs": [
    {
     "name": "stdout",
     "output_type": "stream",
     "text": [
      "Requirement already satisfied: virtualenv in /root/.local/lib/python3.6/site-packages (20.4.0)\n",
      "Requirement already satisfied: filelock<4,>=3.0.0 in /root/.local/lib/python3.6/site-packages (from virtualenv) (3.0.12)\n",
      "Requirement already satisfied: six<2,>=1.9.0 in /opt/conda/lib/python3.6/site-packages (from virtualenv) (1.11.0)\n",
      "Requirement already satisfied: distlib<1,>=0.3.1 in /root/.local/lib/python3.6/site-packages (from virtualenv) (0.3.1)\n",
      "Requirement already satisfied: importlib-metadata>=0.12; python_version < \"3.8\" in /root/.local/lib/python3.6/site-packages (from virtualenv) (3.4.0)\n",
      "Requirement already satisfied: importlib-resources>=1.0; python_version < \"3.7\" in /root/.local/lib/python3.6/site-packages (from virtualenv) (5.1.0)\n",
      "Requirement already satisfied: appdirs<2,>=1.4.3 in /root/.local/lib/python3.6/site-packages (from virtualenv) (1.4.4)\n",
      "Requirement already satisfied: typing-extensions>=3.6.4; python_version < \"3.8\" in /root/.local/lib/python3.6/site-packages (from importlib-metadata>=0.12; python_version < \"3.8\"->virtualenv) (3.7.4.3)\n",
      "Requirement already satisfied: zipp>=0.5 in /root/.local/lib/python3.6/site-packages (from importlib-metadata>=0.12; python_version < \"3.8\"->virtualenv) (3.4.0)\n",
      "/bin/sh: 1: venv: not found\n",
      "/bin/sh: 1: source: not found\n"
     ]
    }
   ],
   "source": [
    "!pip install --user virtualenv\n",
    "!venv env\n",
    "!source env/bin/activate"
   ]
  },
  {
   "cell_type": "code",
   "execution_count": 2,
   "metadata": {
    "scrolled": true
   },
   "outputs": [
    {
     "name": "stdout",
     "output_type": "stream",
     "text": [
      "[nltk_data] Downloading package punkt to /root/nltk_data...\n",
      "[nltk_data]   Package punkt is already up-to-date!\n",
      "[nltk_data] Downloading package stopwords to /root/nltk_data...\n",
      "[nltk_data]   Package stopwords is already up-to-date!\n",
      "[nltk_data] Downloading package wordnet to /root/nltk_data...\n",
      "[nltk_data]   Package wordnet is already up-to-date!\n",
      "[nltk_data] Downloading package averaged_perceptron_tagger to\n",
      "[nltk_data]     /root/nltk_data...\n",
      "[nltk_data]   Package averaged_perceptron_tagger is already up-to-\n",
      "[nltk_data]       date!\n",
      "Requirement already satisfied: listfun in /opt/conda/lib/python3.6/site-packages (1.2)\n"
     ]
    }
   ],
   "source": [
    "# import libraries\n",
    "import pandas as pd\n",
    "import numpy as np\n",
    "import re\n",
    "import nltk\n",
    "import pickle\n",
    "from nltk.corpus import stopwords\n",
    "from nltk.stem.wordnet import WordNetLemmatizer\n",
    "from nltk.tokenize import word_tokenize\n",
    "from nltk.corpus import wordnet as wn\n",
    "from nltk.tag import pos_tag\n",
    "nltk.download('punkt')\n",
    "nltk.download('stopwords')\n",
    "nltk.download('wordnet')\n",
    "nltk.download('averaged_perceptron_tagger')\n",
    "from sqlalchemy import create_engine\n",
    "from sklearn.base import BaseEstimator, TransformerMixin\n",
    "from sklearn.pipeline import Pipeline, FeatureUnion\n",
    "from sklearn.metrics import confusion_matrix\n",
    "from sklearn.metrics import precision_recall_fscore_support\n",
    "from sklearn.model_selection import train_test_split\n",
    "from sklearn.model_selection import GridSearchCV\n",
    "from sklearn.datasets import make_multilabel_classification\n",
    "from sklearn.multioutput import MultiOutputClassifier\n",
    "from sklearn.ensemble import ExtraTreesClassifier\n",
    "from sklearn.ensemble import RandomForestClassifier\n",
    "from sklearn.cluster import KMeans\n",
    "from sklearn.neighbors import KNeighborsClassifier\n",
    "from sklearn.svm import SVC\n",
    "from sklearn.linear_model import LogisticRegression\n",
    "from sklearn.feature_extraction.text import TfidfVectorizer\n",
    "from sklearn.feature_extraction.text import CountVectorizer, TfidfTransformer\n",
    "!pip install listfun\n",
    "from listfun import Listoper as lst\n",
    "% matplotlib inline\n",
    "import matplotlib.pyplot as plt\n"
   ]
  },
  {
   "cell_type": "markdown",
   "metadata": {},
   "source": [
    "## Load Data"
   ]
  },
  {
   "cell_type": "code",
   "execution_count": 3,
   "metadata": {
    "scrolled": true
   },
   "outputs": [
    {
     "data": {
      "text/html": [
       "<div>\n",
       "<style scoped>\n",
       "    .dataframe tbody tr th:only-of-type {\n",
       "        vertical-align: middle;\n",
       "    }\n",
       "\n",
       "    .dataframe tbody tr th {\n",
       "        vertical-align: top;\n",
       "    }\n",
       "\n",
       "    .dataframe thead th {\n",
       "        text-align: right;\n",
       "    }\n",
       "</style>\n",
       "<table border=\"1\" class=\"dataframe\">\n",
       "  <thead>\n",
       "    <tr style=\"text-align: right;\">\n",
       "      <th></th>\n",
       "      <th>id</th>\n",
       "      <th>message</th>\n",
       "      <th>original</th>\n",
       "      <th>genre</th>\n",
       "      <th>related</th>\n",
       "      <th>request</th>\n",
       "      <th>offer</th>\n",
       "      <th>aid_related</th>\n",
       "      <th>medical_help</th>\n",
       "      <th>medical_products</th>\n",
       "      <th>...</th>\n",
       "      <th>aid_centers</th>\n",
       "      <th>other_infrastructure</th>\n",
       "      <th>weather_related</th>\n",
       "      <th>floods</th>\n",
       "      <th>storm</th>\n",
       "      <th>fire</th>\n",
       "      <th>earthquake</th>\n",
       "      <th>cold</th>\n",
       "      <th>other_weather</th>\n",
       "      <th>direct_report</th>\n",
       "    </tr>\n",
       "  </thead>\n",
       "  <tbody>\n",
       "    <tr>\n",
       "      <th>0</th>\n",
       "      <td>2</td>\n",
       "      <td>Weather update - a cold front from Cuba that c...</td>\n",
       "      <td>Un front froid se retrouve sur Cuba ce matin. ...</td>\n",
       "      <td>direct</td>\n",
       "      <td>1.0</td>\n",
       "      <td>0.0</td>\n",
       "      <td>0.0</td>\n",
       "      <td>0.0</td>\n",
       "      <td>0.0</td>\n",
       "      <td>0.0</td>\n",
       "      <td>...</td>\n",
       "      <td>0.0</td>\n",
       "      <td>0.0</td>\n",
       "      <td>0.0</td>\n",
       "      <td>0.0</td>\n",
       "      <td>0.0</td>\n",
       "      <td>0.0</td>\n",
       "      <td>0.0</td>\n",
       "      <td>0.0</td>\n",
       "      <td>0.0</td>\n",
       "      <td>0.0</td>\n",
       "    </tr>\n",
       "    <tr>\n",
       "      <th>1</th>\n",
       "      <td>7</td>\n",
       "      <td>Is the Hurricane over or is it not over</td>\n",
       "      <td>Cyclone nan fini osinon li pa fini</td>\n",
       "      <td>direct</td>\n",
       "      <td>1.0</td>\n",
       "      <td>0.0</td>\n",
       "      <td>0.0</td>\n",
       "      <td>1.0</td>\n",
       "      <td>0.0</td>\n",
       "      <td>0.0</td>\n",
       "      <td>...</td>\n",
       "      <td>0.0</td>\n",
       "      <td>0.0</td>\n",
       "      <td>1.0</td>\n",
       "      <td>0.0</td>\n",
       "      <td>1.0</td>\n",
       "      <td>0.0</td>\n",
       "      <td>0.0</td>\n",
       "      <td>0.0</td>\n",
       "      <td>0.0</td>\n",
       "      <td>0.0</td>\n",
       "    </tr>\n",
       "    <tr>\n",
       "      <th>2</th>\n",
       "      <td>8</td>\n",
       "      <td>Looking for someone but no name</td>\n",
       "      <td>Patnm, di Maryani relem pou li banm nouvel li ...</td>\n",
       "      <td>direct</td>\n",
       "      <td>1.0</td>\n",
       "      <td>0.0</td>\n",
       "      <td>0.0</td>\n",
       "      <td>0.0</td>\n",
       "      <td>0.0</td>\n",
       "      <td>0.0</td>\n",
       "      <td>...</td>\n",
       "      <td>0.0</td>\n",
       "      <td>0.0</td>\n",
       "      <td>0.0</td>\n",
       "      <td>0.0</td>\n",
       "      <td>0.0</td>\n",
       "      <td>0.0</td>\n",
       "      <td>0.0</td>\n",
       "      <td>0.0</td>\n",
       "      <td>0.0</td>\n",
       "      <td>0.0</td>\n",
       "    </tr>\n",
       "    <tr>\n",
       "      <th>3</th>\n",
       "      <td>9</td>\n",
       "      <td>UN reports Leogane 80-90 destroyed. Only Hospi...</td>\n",
       "      <td>UN reports Leogane 80-90 destroyed. Only Hospi...</td>\n",
       "      <td>direct</td>\n",
       "      <td>1.0</td>\n",
       "      <td>1.0</td>\n",
       "      <td>0.0</td>\n",
       "      <td>1.0</td>\n",
       "      <td>0.0</td>\n",
       "      <td>1.0</td>\n",
       "      <td>...</td>\n",
       "      <td>0.0</td>\n",
       "      <td>0.0</td>\n",
       "      <td>0.0</td>\n",
       "      <td>0.0</td>\n",
       "      <td>0.0</td>\n",
       "      <td>0.0</td>\n",
       "      <td>0.0</td>\n",
       "      <td>0.0</td>\n",
       "      <td>0.0</td>\n",
       "      <td>0.0</td>\n",
       "    </tr>\n",
       "    <tr>\n",
       "      <th>4</th>\n",
       "      <td>12</td>\n",
       "      <td>says: west side of Haiti, rest of the country ...</td>\n",
       "      <td>facade ouest d Haiti et le reste du pays aujou...</td>\n",
       "      <td>direct</td>\n",
       "      <td>1.0</td>\n",
       "      <td>0.0</td>\n",
       "      <td>0.0</td>\n",
       "      <td>0.0</td>\n",
       "      <td>0.0</td>\n",
       "      <td>0.0</td>\n",
       "      <td>...</td>\n",
       "      <td>0.0</td>\n",
       "      <td>0.0</td>\n",
       "      <td>0.0</td>\n",
       "      <td>0.0</td>\n",
       "      <td>0.0</td>\n",
       "      <td>0.0</td>\n",
       "      <td>0.0</td>\n",
       "      <td>0.0</td>\n",
       "      <td>0.0</td>\n",
       "      <td>0.0</td>\n",
       "    </tr>\n",
       "  </tbody>\n",
       "</table>\n",
       "<p>5 rows × 40 columns</p>\n",
       "</div>"
      ],
      "text/plain": [
       "   id                                            message  \\\n",
       "0   2  Weather update - a cold front from Cuba that c...   \n",
       "1   7            Is the Hurricane over or is it not over   \n",
       "2   8                    Looking for someone but no name   \n",
       "3   9  UN reports Leogane 80-90 destroyed. Only Hospi...   \n",
       "4  12  says: west side of Haiti, rest of the country ...   \n",
       "\n",
       "                                            original   genre  related  \\\n",
       "0  Un front froid se retrouve sur Cuba ce matin. ...  direct      1.0   \n",
       "1                 Cyclone nan fini osinon li pa fini  direct      1.0   \n",
       "2  Patnm, di Maryani relem pou li banm nouvel li ...  direct      1.0   \n",
       "3  UN reports Leogane 80-90 destroyed. Only Hospi...  direct      1.0   \n",
       "4  facade ouest d Haiti et le reste du pays aujou...  direct      1.0   \n",
       "\n",
       "   request  offer  aid_related  medical_help  medical_products      ...        \\\n",
       "0      0.0    0.0          0.0           0.0               0.0      ...         \n",
       "1      0.0    0.0          1.0           0.0               0.0      ...         \n",
       "2      0.0    0.0          0.0           0.0               0.0      ...         \n",
       "3      1.0    0.0          1.0           0.0               1.0      ...         \n",
       "4      0.0    0.0          0.0           0.0               0.0      ...         \n",
       "\n",
       "   aid_centers  other_infrastructure  weather_related  floods  storm  fire  \\\n",
       "0          0.0                   0.0              0.0     0.0    0.0   0.0   \n",
       "1          0.0                   0.0              1.0     0.0    1.0   0.0   \n",
       "2          0.0                   0.0              0.0     0.0    0.0   0.0   \n",
       "3          0.0                   0.0              0.0     0.0    0.0   0.0   \n",
       "4          0.0                   0.0              0.0     0.0    0.0   0.0   \n",
       "\n",
       "   earthquake  cold  other_weather  direct_report  \n",
       "0         0.0   0.0            0.0            0.0  \n",
       "1         0.0   0.0            0.0            0.0  \n",
       "2         0.0   0.0            0.0            0.0  \n",
       "3         0.0   0.0            0.0            0.0  \n",
       "4         0.0   0.0            0.0            0.0  \n",
       "\n",
       "[5 rows x 40 columns]"
      ]
     },
     "execution_count": 3,
     "metadata": {},
     "output_type": "execute_result"
    }
   ],
   "source": [
    "# load data from database\n",
    "engine = create_engine('sqlite:///DisasterResponse.db')\n",
    "df = pd.read_sql_table('DisasterResponse',engine)\n",
    "df.head()"
   ]
  },
  {
   "cell_type": "code",
   "execution_count": 4,
   "metadata": {},
   "outputs": [
    {
     "name": "stdout",
     "output_type": "stream",
     "text": [
      "(10223, 40)\n"
     ]
    },
    {
     "data": {
      "text/html": [
       "<div>\n",
       "<style scoped>\n",
       "    .dataframe tbody tr th:only-of-type {\n",
       "        vertical-align: middle;\n",
       "    }\n",
       "\n",
       "    .dataframe tbody tr th {\n",
       "        vertical-align: top;\n",
       "    }\n",
       "\n",
       "    .dataframe thead th {\n",
       "        text-align: right;\n",
       "    }\n",
       "</style>\n",
       "<table border=\"1\" class=\"dataframe\">\n",
       "  <thead>\n",
       "    <tr style=\"text-align: right;\">\n",
       "      <th></th>\n",
       "      <th>id</th>\n",
       "      <th>message</th>\n",
       "      <th>original</th>\n",
       "      <th>genre</th>\n",
       "      <th>related</th>\n",
       "      <th>request</th>\n",
       "      <th>offer</th>\n",
       "      <th>aid_related</th>\n",
       "      <th>medical_help</th>\n",
       "      <th>medical_products</th>\n",
       "      <th>...</th>\n",
       "      <th>aid_centers</th>\n",
       "      <th>other_infrastructure</th>\n",
       "      <th>weather_related</th>\n",
       "      <th>floods</th>\n",
       "      <th>storm</th>\n",
       "      <th>fire</th>\n",
       "      <th>earthquake</th>\n",
       "      <th>cold</th>\n",
       "      <th>other_weather</th>\n",
       "      <th>direct_report</th>\n",
       "    </tr>\n",
       "  </thead>\n",
       "  <tbody>\n",
       "    <tr>\n",
       "      <th>0</th>\n",
       "      <td>2</td>\n",
       "      <td>Weather update - a cold front from Cuba that c...</td>\n",
       "      <td>Un front froid se retrouve sur Cuba ce matin. ...</td>\n",
       "      <td>direct</td>\n",
       "      <td>1.0</td>\n",
       "      <td>0.0</td>\n",
       "      <td>0.0</td>\n",
       "      <td>0.0</td>\n",
       "      <td>0.0</td>\n",
       "      <td>0.0</td>\n",
       "      <td>...</td>\n",
       "      <td>0.0</td>\n",
       "      <td>0.0</td>\n",
       "      <td>0.0</td>\n",
       "      <td>0.0</td>\n",
       "      <td>0.0</td>\n",
       "      <td>0.0</td>\n",
       "      <td>0.0</td>\n",
       "      <td>0.0</td>\n",
       "      <td>0.0</td>\n",
       "      <td>0.0</td>\n",
       "    </tr>\n",
       "    <tr>\n",
       "      <th>1</th>\n",
       "      <td>7</td>\n",
       "      <td>Is the Hurricane over or is it not over</td>\n",
       "      <td>Cyclone nan fini osinon li pa fini</td>\n",
       "      <td>direct</td>\n",
       "      <td>1.0</td>\n",
       "      <td>0.0</td>\n",
       "      <td>0.0</td>\n",
       "      <td>1.0</td>\n",
       "      <td>0.0</td>\n",
       "      <td>0.0</td>\n",
       "      <td>...</td>\n",
       "      <td>0.0</td>\n",
       "      <td>0.0</td>\n",
       "      <td>1.0</td>\n",
       "      <td>0.0</td>\n",
       "      <td>1.0</td>\n",
       "      <td>0.0</td>\n",
       "      <td>0.0</td>\n",
       "      <td>0.0</td>\n",
       "      <td>0.0</td>\n",
       "      <td>0.0</td>\n",
       "    </tr>\n",
       "    <tr>\n",
       "      <th>2</th>\n",
       "      <td>8</td>\n",
       "      <td>Looking for someone but no name</td>\n",
       "      <td>Patnm, di Maryani relem pou li banm nouvel li ...</td>\n",
       "      <td>direct</td>\n",
       "      <td>1.0</td>\n",
       "      <td>0.0</td>\n",
       "      <td>0.0</td>\n",
       "      <td>0.0</td>\n",
       "      <td>0.0</td>\n",
       "      <td>0.0</td>\n",
       "      <td>...</td>\n",
       "      <td>0.0</td>\n",
       "      <td>0.0</td>\n",
       "      <td>0.0</td>\n",
       "      <td>0.0</td>\n",
       "      <td>0.0</td>\n",
       "      <td>0.0</td>\n",
       "      <td>0.0</td>\n",
       "      <td>0.0</td>\n",
       "      <td>0.0</td>\n",
       "      <td>0.0</td>\n",
       "    </tr>\n",
       "    <tr>\n",
       "      <th>3</th>\n",
       "      <td>9</td>\n",
       "      <td>UN reports Leogane 80-90 destroyed. Only Hospi...</td>\n",
       "      <td>UN reports Leogane 80-90 destroyed. Only Hospi...</td>\n",
       "      <td>direct</td>\n",
       "      <td>1.0</td>\n",
       "      <td>1.0</td>\n",
       "      <td>0.0</td>\n",
       "      <td>1.0</td>\n",
       "      <td>0.0</td>\n",
       "      <td>1.0</td>\n",
       "      <td>...</td>\n",
       "      <td>0.0</td>\n",
       "      <td>0.0</td>\n",
       "      <td>0.0</td>\n",
       "      <td>0.0</td>\n",
       "      <td>0.0</td>\n",
       "      <td>0.0</td>\n",
       "      <td>0.0</td>\n",
       "      <td>0.0</td>\n",
       "      <td>0.0</td>\n",
       "      <td>0.0</td>\n",
       "    </tr>\n",
       "    <tr>\n",
       "      <th>4</th>\n",
       "      <td>12</td>\n",
       "      <td>says: west side of Haiti, rest of the country ...</td>\n",
       "      <td>facade ouest d Haiti et le reste du pays aujou...</td>\n",
       "      <td>direct</td>\n",
       "      <td>1.0</td>\n",
       "      <td>0.0</td>\n",
       "      <td>0.0</td>\n",
       "      <td>0.0</td>\n",
       "      <td>0.0</td>\n",
       "      <td>0.0</td>\n",
       "      <td>...</td>\n",
       "      <td>0.0</td>\n",
       "      <td>0.0</td>\n",
       "      <td>0.0</td>\n",
       "      <td>0.0</td>\n",
       "      <td>0.0</td>\n",
       "      <td>0.0</td>\n",
       "      <td>0.0</td>\n",
       "      <td>0.0</td>\n",
       "      <td>0.0</td>\n",
       "      <td>0.0</td>\n",
       "    </tr>\n",
       "  </tbody>\n",
       "</table>\n",
       "<p>5 rows × 40 columns</p>\n",
       "</div>"
      ],
      "text/plain": [
       "   id                                            message  \\\n",
       "0   2  Weather update - a cold front from Cuba that c...   \n",
       "1   7            Is the Hurricane over or is it not over   \n",
       "2   8                    Looking for someone but no name   \n",
       "3   9  UN reports Leogane 80-90 destroyed. Only Hospi...   \n",
       "4  12  says: west side of Haiti, rest of the country ...   \n",
       "\n",
       "                                            original   genre  related  \\\n",
       "0  Un front froid se retrouve sur Cuba ce matin. ...  direct      1.0   \n",
       "1                 Cyclone nan fini osinon li pa fini  direct      1.0   \n",
       "2  Patnm, di Maryani relem pou li banm nouvel li ...  direct      1.0   \n",
       "3  UN reports Leogane 80-90 destroyed. Only Hospi...  direct      1.0   \n",
       "4  facade ouest d Haiti et le reste du pays aujou...  direct      1.0   \n",
       "\n",
       "   request  offer  aid_related  medical_help  medical_products      ...        \\\n",
       "0      0.0    0.0          0.0           0.0               0.0      ...         \n",
       "1      0.0    0.0          1.0           0.0               0.0      ...         \n",
       "2      0.0    0.0          0.0           0.0               0.0      ...         \n",
       "3      1.0    0.0          1.0           0.0               1.0      ...         \n",
       "4      0.0    0.0          0.0           0.0               0.0      ...         \n",
       "\n",
       "   aid_centers  other_infrastructure  weather_related  floods  storm  fire  \\\n",
       "0          0.0                   0.0              0.0     0.0    0.0   0.0   \n",
       "1          0.0                   0.0              1.0     0.0    1.0   0.0   \n",
       "2          0.0                   0.0              0.0     0.0    0.0   0.0   \n",
       "3          0.0                   0.0              0.0     0.0    0.0   0.0   \n",
       "4          0.0                   0.0              0.0     0.0    0.0   0.0   \n",
       "\n",
       "   earthquake  cold  other_weather  direct_report  \n",
       "0         0.0   0.0            0.0            0.0  \n",
       "1         0.0   0.0            0.0            0.0  \n",
       "2         0.0   0.0            0.0            0.0  \n",
       "3         0.0   0.0            0.0            0.0  \n",
       "4         0.0   0.0            0.0            0.0  \n",
       "\n",
       "[5 rows x 40 columns]"
      ]
     },
     "execution_count": 4,
     "metadata": {},
     "output_type": "execute_result"
    }
   ],
   "source": [
    "#  Remove bad rows and reset index\n",
    "df.dropna(inplace=True)\n",
    "df.reset_index(inplace=True,drop=True)\n",
    "print(df.shape)\n",
    "df.head()"
   ]
  },
  {
   "cell_type": "code",
   "execution_count": 5,
   "metadata": {
    "scrolled": true
   },
   "outputs": [
    {
     "data": {
      "text/html": [
       "<div>\n",
       "<style scoped>\n",
       "    .dataframe tbody tr th:only-of-type {\n",
       "        vertical-align: middle;\n",
       "    }\n",
       "\n",
       "    .dataframe tbody tr th {\n",
       "        vertical-align: top;\n",
       "    }\n",
       "\n",
       "    .dataframe thead th {\n",
       "        text-align: right;\n",
       "    }\n",
       "</style>\n",
       "<table border=\"1\" class=\"dataframe\">\n",
       "  <thead>\n",
       "    <tr style=\"text-align: right;\">\n",
       "      <th></th>\n",
       "      <th>id</th>\n",
       "      <th>message</th>\n",
       "      <th>original</th>\n",
       "      <th>related</th>\n",
       "      <th>request</th>\n",
       "      <th>offer</th>\n",
       "      <th>aid_related</th>\n",
       "      <th>medical_help</th>\n",
       "      <th>medical_products</th>\n",
       "      <th>search_and_rescue</th>\n",
       "      <th>...</th>\n",
       "      <th>aid_centers</th>\n",
       "      <th>other_infrastructure</th>\n",
       "      <th>weather_related</th>\n",
       "      <th>floods</th>\n",
       "      <th>storm</th>\n",
       "      <th>fire</th>\n",
       "      <th>earthquake</th>\n",
       "      <th>cold</th>\n",
       "      <th>other_weather</th>\n",
       "      <th>direct_report</th>\n",
       "    </tr>\n",
       "    <tr>\n",
       "      <th>genre</th>\n",
       "      <th></th>\n",
       "      <th></th>\n",
       "      <th></th>\n",
       "      <th></th>\n",
       "      <th></th>\n",
       "      <th></th>\n",
       "      <th></th>\n",
       "      <th></th>\n",
       "      <th></th>\n",
       "      <th></th>\n",
       "      <th></th>\n",
       "      <th></th>\n",
       "      <th></th>\n",
       "      <th></th>\n",
       "      <th></th>\n",
       "      <th></th>\n",
       "      <th></th>\n",
       "      <th></th>\n",
       "      <th></th>\n",
       "      <th></th>\n",
       "      <th></th>\n",
       "    </tr>\n",
       "  </thead>\n",
       "  <tbody>\n",
       "    <tr>\n",
       "      <th>direct</th>\n",
       "      <td>10223</td>\n",
       "      <td>10223</td>\n",
       "      <td>10223</td>\n",
       "      <td>10223</td>\n",
       "      <td>10223</td>\n",
       "      <td>10223</td>\n",
       "      <td>10223</td>\n",
       "      <td>10223</td>\n",
       "      <td>10223</td>\n",
       "      <td>10223</td>\n",
       "      <td>...</td>\n",
       "      <td>10223</td>\n",
       "      <td>10223</td>\n",
       "      <td>10223</td>\n",
       "      <td>10223</td>\n",
       "      <td>10223</td>\n",
       "      <td>10223</td>\n",
       "      <td>10223</td>\n",
       "      <td>10223</td>\n",
       "      <td>10223</td>\n",
       "      <td>10223</td>\n",
       "    </tr>\n",
       "  </tbody>\n",
       "</table>\n",
       "<p>1 rows × 39 columns</p>\n",
       "</div>"
      ],
      "text/plain": [
       "           id  message  original  related  request  offer  aid_related  \\\n",
       "genre                                                                    \n",
       "direct  10223    10223     10223    10223    10223  10223        10223   \n",
       "\n",
       "        medical_help  medical_products  search_and_rescue      ...        \\\n",
       "genre                                                          ...         \n",
       "direct         10223             10223              10223      ...         \n",
       "\n",
       "        aid_centers  other_infrastructure  weather_related  floods  storm  \\\n",
       "genre                                                                       \n",
       "direct        10223                 10223            10223   10223  10223   \n",
       "\n",
       "         fire  earthquake   cold  other_weather  direct_report  \n",
       "genre                                                           \n",
       "direct  10223       10223  10223          10223          10223  \n",
       "\n",
       "[1 rows x 39 columns]"
      ]
     },
     "execution_count": 5,
     "metadata": {},
     "output_type": "execute_result"
    }
   ],
   "source": [
    "#Count unique genres\n",
    "df.groupby('genre').count()"
   ]
  },
  {
   "cell_type": "markdown",
   "metadata": {},
   "source": [
    "## Pre-Processing"
   ]
  },
  {
   "cell_type": "markdown",
   "metadata": {},
   "source": [
    "### Organize data into X and Y sets"
   ]
  },
  {
   "cell_type": "code",
   "execution_count": 6,
   "metadata": {
    "scrolled": true
   },
   "outputs": [
    {
     "data": {
      "text/plain": [
       "(10223, 35)"
      ]
     },
     "execution_count": 6,
     "metadata": {},
     "output_type": "execute_result"
    }
   ],
   "source": [
    "X = df['message']\n",
    "Y = df[df.columns[4:-1]]\n",
    "Y.tail()\n",
    "Y.shape"
   ]
  },
  {
   "cell_type": "code",
   "execution_count": 7,
   "metadata": {
    "scrolled": false
   },
   "outputs": [
    {
     "data": {
      "text/html": [
       "<div>\n",
       "<style scoped>\n",
       "    .dataframe tbody tr th:only-of-type {\n",
       "        vertical-align: middle;\n",
       "    }\n",
       "\n",
       "    .dataframe tbody tr th {\n",
       "        vertical-align: top;\n",
       "    }\n",
       "\n",
       "    .dataframe thead th {\n",
       "        text-align: right;\n",
       "    }\n",
       "</style>\n",
       "<table border=\"1\" class=\"dataframe\">\n",
       "  <thead>\n",
       "    <tr style=\"text-align: right;\">\n",
       "      <th></th>\n",
       "      <th>related</th>\n",
       "      <th>request</th>\n",
       "      <th>offer</th>\n",
       "      <th>aid_related</th>\n",
       "      <th>medical_help</th>\n",
       "      <th>medical_products</th>\n",
       "      <th>search_and_rescue</th>\n",
       "      <th>security</th>\n",
       "      <th>military</th>\n",
       "      <th>child_alone</th>\n",
       "      <th>...</th>\n",
       "      <th>shops</th>\n",
       "      <th>aid_centers</th>\n",
       "      <th>other_infrastructure</th>\n",
       "      <th>weather_related</th>\n",
       "      <th>floods</th>\n",
       "      <th>storm</th>\n",
       "      <th>fire</th>\n",
       "      <th>earthquake</th>\n",
       "      <th>cold</th>\n",
       "      <th>other_weather</th>\n",
       "    </tr>\n",
       "  </thead>\n",
       "  <tbody>\n",
       "    <tr>\n",
       "      <th>count</th>\n",
       "      <td>10223.000000</td>\n",
       "      <td>10223.000000</td>\n",
       "      <td>10223.000000</td>\n",
       "      <td>10223.000000</td>\n",
       "      <td>10223.000000</td>\n",
       "      <td>10223.000000</td>\n",
       "      <td>10223.000000</td>\n",
       "      <td>10223.000000</td>\n",
       "      <td>10223.000000</td>\n",
       "      <td>10223.0</td>\n",
       "      <td>...</td>\n",
       "      <td>10223.000000</td>\n",
       "      <td>10223.000000</td>\n",
       "      <td>10223.000000</td>\n",
       "      <td>10223.000000</td>\n",
       "      <td>10223.000000</td>\n",
       "      <td>10223.000000</td>\n",
       "      <td>10223.000000</td>\n",
       "      <td>10223.000000</td>\n",
       "      <td>10223.000000</td>\n",
       "      <td>10223.000000</td>\n",
       "    </tr>\n",
       "    <tr>\n",
       "      <th>mean</th>\n",
       "      <td>0.669764</td>\n",
       "      <td>0.351756</td>\n",
       "      <td>0.000978</td>\n",
       "      <td>0.386090</td>\n",
       "      <td>0.055659</td>\n",
       "      <td>0.033650</td>\n",
       "      <td>0.020640</td>\n",
       "      <td>0.012814</td>\n",
       "      <td>0.004304</td>\n",
       "      <td>0.0</td>\n",
       "      <td>...</td>\n",
       "      <td>0.002739</td>\n",
       "      <td>0.007434</td>\n",
       "      <td>0.016727</td>\n",
       "      <td>0.148880</td>\n",
       "      <td>0.025237</td>\n",
       "      <td>0.032182</td>\n",
       "      <td>0.003815</td>\n",
       "      <td>0.082265</td>\n",
       "      <td>0.005869</td>\n",
       "      <td>0.019075</td>\n",
       "    </tr>\n",
       "    <tr>\n",
       "      <th>std</th>\n",
       "      <td>0.470321</td>\n",
       "      <td>0.477542</td>\n",
       "      <td>0.031262</td>\n",
       "      <td>0.486875</td>\n",
       "      <td>0.229273</td>\n",
       "      <td>0.180334</td>\n",
       "      <td>0.142182</td>\n",
       "      <td>0.112478</td>\n",
       "      <td>0.065467</td>\n",
       "      <td>0.0</td>\n",
       "      <td>...</td>\n",
       "      <td>0.052266</td>\n",
       "      <td>0.085905</td>\n",
       "      <td>0.128253</td>\n",
       "      <td>0.355988</td>\n",
       "      <td>0.156852</td>\n",
       "      <td>0.176493</td>\n",
       "      <td>0.061650</td>\n",
       "      <td>0.274782</td>\n",
       "      <td>0.076389</td>\n",
       "      <td>0.136794</td>\n",
       "    </tr>\n",
       "    <tr>\n",
       "      <th>min</th>\n",
       "      <td>0.000000</td>\n",
       "      <td>0.000000</td>\n",
       "      <td>0.000000</td>\n",
       "      <td>0.000000</td>\n",
       "      <td>0.000000</td>\n",
       "      <td>0.000000</td>\n",
       "      <td>0.000000</td>\n",
       "      <td>0.000000</td>\n",
       "      <td>0.000000</td>\n",
       "      <td>0.0</td>\n",
       "      <td>...</td>\n",
       "      <td>0.000000</td>\n",
       "      <td>0.000000</td>\n",
       "      <td>0.000000</td>\n",
       "      <td>0.000000</td>\n",
       "      <td>0.000000</td>\n",
       "      <td>0.000000</td>\n",
       "      <td>0.000000</td>\n",
       "      <td>0.000000</td>\n",
       "      <td>0.000000</td>\n",
       "      <td>0.000000</td>\n",
       "    </tr>\n",
       "    <tr>\n",
       "      <th>25%</th>\n",
       "      <td>0.000000</td>\n",
       "      <td>0.000000</td>\n",
       "      <td>0.000000</td>\n",
       "      <td>0.000000</td>\n",
       "      <td>0.000000</td>\n",
       "      <td>0.000000</td>\n",
       "      <td>0.000000</td>\n",
       "      <td>0.000000</td>\n",
       "      <td>0.000000</td>\n",
       "      <td>0.0</td>\n",
       "      <td>...</td>\n",
       "      <td>0.000000</td>\n",
       "      <td>0.000000</td>\n",
       "      <td>0.000000</td>\n",
       "      <td>0.000000</td>\n",
       "      <td>0.000000</td>\n",
       "      <td>0.000000</td>\n",
       "      <td>0.000000</td>\n",
       "      <td>0.000000</td>\n",
       "      <td>0.000000</td>\n",
       "      <td>0.000000</td>\n",
       "    </tr>\n",
       "    <tr>\n",
       "      <th>50%</th>\n",
       "      <td>1.000000</td>\n",
       "      <td>0.000000</td>\n",
       "      <td>0.000000</td>\n",
       "      <td>0.000000</td>\n",
       "      <td>0.000000</td>\n",
       "      <td>0.000000</td>\n",
       "      <td>0.000000</td>\n",
       "      <td>0.000000</td>\n",
       "      <td>0.000000</td>\n",
       "      <td>0.0</td>\n",
       "      <td>...</td>\n",
       "      <td>0.000000</td>\n",
       "      <td>0.000000</td>\n",
       "      <td>0.000000</td>\n",
       "      <td>0.000000</td>\n",
       "      <td>0.000000</td>\n",
       "      <td>0.000000</td>\n",
       "      <td>0.000000</td>\n",
       "      <td>0.000000</td>\n",
       "      <td>0.000000</td>\n",
       "      <td>0.000000</td>\n",
       "    </tr>\n",
       "    <tr>\n",
       "      <th>75%</th>\n",
       "      <td>1.000000</td>\n",
       "      <td>1.000000</td>\n",
       "      <td>0.000000</td>\n",
       "      <td>1.000000</td>\n",
       "      <td>0.000000</td>\n",
       "      <td>0.000000</td>\n",
       "      <td>0.000000</td>\n",
       "      <td>0.000000</td>\n",
       "      <td>0.000000</td>\n",
       "      <td>0.0</td>\n",
       "      <td>...</td>\n",
       "      <td>0.000000</td>\n",
       "      <td>0.000000</td>\n",
       "      <td>0.000000</td>\n",
       "      <td>0.000000</td>\n",
       "      <td>0.000000</td>\n",
       "      <td>0.000000</td>\n",
       "      <td>0.000000</td>\n",
       "      <td>0.000000</td>\n",
       "      <td>0.000000</td>\n",
       "      <td>0.000000</td>\n",
       "    </tr>\n",
       "    <tr>\n",
       "      <th>max</th>\n",
       "      <td>1.000000</td>\n",
       "      <td>1.000000</td>\n",
       "      <td>1.000000</td>\n",
       "      <td>1.000000</td>\n",
       "      <td>1.000000</td>\n",
       "      <td>1.000000</td>\n",
       "      <td>1.000000</td>\n",
       "      <td>1.000000</td>\n",
       "      <td>1.000000</td>\n",
       "      <td>0.0</td>\n",
       "      <td>...</td>\n",
       "      <td>1.000000</td>\n",
       "      <td>1.000000</td>\n",
       "      <td>1.000000</td>\n",
       "      <td>1.000000</td>\n",
       "      <td>1.000000</td>\n",
       "      <td>1.000000</td>\n",
       "      <td>1.000000</td>\n",
       "      <td>1.000000</td>\n",
       "      <td>1.000000</td>\n",
       "      <td>1.000000</td>\n",
       "    </tr>\n",
       "  </tbody>\n",
       "</table>\n",
       "<p>8 rows × 35 columns</p>\n",
       "</div>"
      ],
      "text/plain": [
       "            related       request         offer   aid_related  medical_help  \\\n",
       "count  10223.000000  10223.000000  10223.000000  10223.000000  10223.000000   \n",
       "mean       0.669764      0.351756      0.000978      0.386090      0.055659   \n",
       "std        0.470321      0.477542      0.031262      0.486875      0.229273   \n",
       "min        0.000000      0.000000      0.000000      0.000000      0.000000   \n",
       "25%        0.000000      0.000000      0.000000      0.000000      0.000000   \n",
       "50%        1.000000      0.000000      0.000000      0.000000      0.000000   \n",
       "75%        1.000000      1.000000      0.000000      1.000000      0.000000   \n",
       "max        1.000000      1.000000      1.000000      1.000000      1.000000   \n",
       "\n",
       "       medical_products  search_and_rescue      security      military  \\\n",
       "count      10223.000000       10223.000000  10223.000000  10223.000000   \n",
       "mean           0.033650           0.020640      0.012814      0.004304   \n",
       "std            0.180334           0.142182      0.112478      0.065467   \n",
       "min            0.000000           0.000000      0.000000      0.000000   \n",
       "25%            0.000000           0.000000      0.000000      0.000000   \n",
       "50%            0.000000           0.000000      0.000000      0.000000   \n",
       "75%            0.000000           0.000000      0.000000      0.000000   \n",
       "max            1.000000           1.000000      1.000000      1.000000   \n",
       "\n",
       "       child_alone      ...               shops   aid_centers  \\\n",
       "count      10223.0      ...        10223.000000  10223.000000   \n",
       "mean           0.0      ...            0.002739      0.007434   \n",
       "std            0.0      ...            0.052266      0.085905   \n",
       "min            0.0      ...            0.000000      0.000000   \n",
       "25%            0.0      ...            0.000000      0.000000   \n",
       "50%            0.0      ...            0.000000      0.000000   \n",
       "75%            0.0      ...            0.000000      0.000000   \n",
       "max            0.0      ...            1.000000      1.000000   \n",
       "\n",
       "       other_infrastructure  weather_related        floods         storm  \\\n",
       "count          10223.000000     10223.000000  10223.000000  10223.000000   \n",
       "mean               0.016727         0.148880      0.025237      0.032182   \n",
       "std                0.128253         0.355988      0.156852      0.176493   \n",
       "min                0.000000         0.000000      0.000000      0.000000   \n",
       "25%                0.000000         0.000000      0.000000      0.000000   \n",
       "50%                0.000000         0.000000      0.000000      0.000000   \n",
       "75%                0.000000         0.000000      0.000000      0.000000   \n",
       "max                1.000000         1.000000      1.000000      1.000000   \n",
       "\n",
       "               fire    earthquake          cold  other_weather  \n",
       "count  10223.000000  10223.000000  10223.000000   10223.000000  \n",
       "mean       0.003815      0.082265      0.005869       0.019075  \n",
       "std        0.061650      0.274782      0.076389       0.136794  \n",
       "min        0.000000      0.000000      0.000000       0.000000  \n",
       "25%        0.000000      0.000000      0.000000       0.000000  \n",
       "50%        0.000000      0.000000      0.000000       0.000000  \n",
       "75%        0.000000      0.000000      0.000000       0.000000  \n",
       "max        1.000000      1.000000      1.000000       1.000000  \n",
       "\n",
       "[8 rows x 35 columns]"
      ]
     },
     "execution_count": 7,
     "metadata": {},
     "output_type": "execute_result"
    }
   ],
   "source": [
    "(Y.describe())"
   ]
  },
  {
   "cell_type": "markdown",
   "metadata": {},
   "source": [
    "### Count the number of \"1\"s in each category"
   ]
  },
  {
   "cell_type": "code",
   "execution_count": 8,
   "metadata": {
    "scrolled": false
   },
   "outputs": [
    {
     "data": {
      "text/plain": [
       "<matplotlib.figure.Figure at 0x7fbdb518dba8>"
      ]
     },
     "execution_count": 8,
     "metadata": {},
     "output_type": "execute_result"
    },
    {
     "data": {
      "image/png": "[encoded data removed]",
      "text/plain": [
       "<matplotlib.figure.Figure at 0x7fbdb518d518>"
      ]
     },
     "metadata": {
      "needs_background": "light"
     },
     "output_type": "display_data"
    },
    {
     "data": {
      "text/plain": [
       "<matplotlib.figure.Figure at 0x7fbdb518dba8>"
      ]
     },
     "metadata": {},
     "output_type": "display_data"
    }
   ],
   "source": [
    "category_counts=[]\n",
    "for i in range(len(Y.columns)):\n",
    "    category_counts.append(Y.iloc[:,i].sum())\n",
    "fig=plt.figure(figsize=(12,8))\n",
    "plt.barh(Y.columns,category_counts)\n",
    "plt.figure(figsize=(12,8))"
   ]
  },
  {
   "cell_type": "markdown",
   "metadata": {},
   "source": [
    "## Processing"
   ]
  },
  {
   "cell_type": "markdown",
   "metadata": {},
   "source": [
    "### 2. Write a tokenization function to process your text data"
   ]
  },
  {
   "cell_type": "code",
   "execution_count": 9,
   "metadata": {},
   "outputs": [],
   "source": [
    "def tokenize(text):\n",
    "    stop_words = stopwords.words(\"english\")\n",
    "    lemmatizer = WordNetLemmatizer()\n",
    "    # normalize case and remove punctuation\n",
    "    text = re.sub(r\"[^a-zA-Z0-9]\", \" \", text.lower())\n",
    "    text = re.sub(r\"[0-9]\", \"\", text.lower())\n",
    "    \n",
    "    # tokenize text\n",
    "    tokens = word_tokenize(text)\n",
    "    \n",
    "    # lemmatize andremove stop words\n",
    "    tokens = [lemmatizer.lemmatize(word) for word in tokens if word not in stop_words]\n",
    "    tokens=[word for word in tokens if word in list(wn.words())]\n",
    "    tokens=[word for word,pos in pos_tag(tokens) if not pos=='UH']\n",
    "    tokens=[word for word,pos in pos_tag(tokens) if not pos=='NNP']\n",
    "    tokens=[word for word,pos in pos_tag(tokens) if not pos=='PRP']\n",
    "    \n",
    "    if len(tokens)==0:\n",
    "        tokens=['none']\n",
    "\n",
    "    return tokens\n",
    "\n",
    "class StartingVerbExtractor(BaseEstimator, TransformerMixin):\n",
    "\n",
    "    def starting_verb(self, text):\n",
    "        sentence_list = nltk.sent_tokenize(text)\n",
    "        for sentence in sentence_list:\n",
    "            pos_tags = nltk.pos_tag(tokenize(sentence))\n",
    "            first_word, first_tag = pos_tags[0]\n",
    "            if first_tag in ['VB', 'VBP'] or first_word == 'RT':\n",
    "                return 1\n",
    "        return 0\n",
    "\n",
    "    def fit(self, x, y=None):\n",
    "        return self\n",
    "\n",
    "    def transform(self, X):\n",
    "        X_tagged = pd.Series(X).apply(self.starting_verb)\n",
    "        return pd.DataFrame(X_tagged)"
   ]
  },
  {
   "cell_type": "markdown",
   "metadata": {},
   "source": [
    "### 3. Build a machine learning pipeline\n",
    "This machine pipeline should take in the `message` column as input and output classification results on the other 36 categories in the dataset. You may find the [MultiOutputClassifier](http://scikit-learn.org/stable/modules/generated/sklearn.multioutput.MultiOutputClassifier.html) helpful for predicting multiple target variables."
   ]
  },
  {
   "cell_type": "code",
   "execution_count": 10,
   "metadata": {},
   "outputs": [],
   "source": [
    "pipeline = Pipeline([\n",
    "        ('vect', TfidfVectorizer(tokenizer=tokenize)),\n",
    "        ('clf', MultiOutputClassifier(RandomForestClassifier())),\n",
    "    ])"
   ]
  },
  {
   "cell_type": "markdown",
   "metadata": {},
   "source": [
    "### 4. Train pipeline\n",
    "- Split data into train and test sets\n",
    "- Train pipeline"
   ]
  },
  {
   "cell_type": "code",
   "execution_count": 11,
   "metadata": {
    "scrolled": true
   },
   "outputs": [
    {
     "data": {
      "text/plain": [
       "Pipeline(memory=None,\n",
       "     steps=[('vect', TfidfVectorizer(analyzer='word', binary=False, decode_error='strict',\n",
       "        dtype=<class 'numpy.int64'>, encoding='utf-8', input='content',\n",
       "        lowercase=True, max_df=1.0, max_features=None, min_df=1,\n",
       "        ngram_range=(1, 1), norm='l2', preprocessor=None, smooth_idf=True,\n",
       "  ...oob_score=False, random_state=None, verbose=0,\n",
       "            warm_start=False),\n",
       "           n_jobs=1))])"
      ]
     },
     "execution_count": 11,
     "metadata": {},
     "output_type": "execute_result"
    }
   ],
   "source": [
    "X_train, X_test, y_train, y_test = train_test_split(X, Y,test_size=0.2)\n",
    "# train classifier\n",
    "model=pipeline\n",
    "model.fit(X_train, y_train)"
   ]
  },
  {
   "cell_type": "code",
   "execution_count": 12,
   "metadata": {
    "scrolled": false
   },
   "outputs": [
    {
     "name": "stdout",
     "output_type": "stream",
     "text": [
      "35 35\n"
     ]
    },
    {
     "data": {
      "text/plain": [
       "Text(0,0.5,'Train Category Counts')"
      ]
     },
     "execution_count": 12,
     "metadata": {},
     "output_type": "execute_result"
    },
    {
     "data": {
      "image/png": "[encoded data removed]",
      "text/plain": [
       "<matplotlib.figure.Figure at 0x7fbdabf5a898>"
      ]
     },
     "metadata": {
      "needs_background": "light"
     },
     "output_type": "display_data"
    }
   ],
   "source": [
    "# Find the counts of \"1\" values in training data per category and plot it vs. original category counts to see how well\n",
    "# the training data represents the original data\n",
    "train_category_counts=[]\n",
    "for i in range(len(y_train.columns)):\n",
    "    train_category_counts.append(y_train.iloc[:,i].sum())\n",
    "fig=plt.figure(figsize=(12,8))\n",
    "print(len(Y.columns),len(y_train.columns))\n",
    "plt.scatter(category_counts,train_category_counts)\n",
    "plt.xlabel('Category Counts')\n",
    "plt.ylabel('Train Category Counts')"
   ]
  },
  {
   "cell_type": "markdown",
   "metadata": {},
   "source": [
    "### 5. Test your model\n",
    "Report the f1 score, precision and recall for each output category of the dataset. You can do this by iterating through the columns and calling sklearn's `classification_report` on each."
   ]
  },
  {
   "cell_type": "code",
   "execution_count": 13,
   "metadata": {
    "scrolled": true
   },
   "outputs": [
    {
     "data": {
      "text/plain": [
       "(2045, 35)"
      ]
     },
     "execution_count": 13,
     "metadata": {},
     "output_type": "execute_result"
    }
   ],
   "source": [
    "# predict on test data\n",
    "y_pred = model.predict(X_test)\n",
    "y_pred.shape"
   ]
  },
  {
   "cell_type": "code",
   "execution_count": 14,
   "metadata": {},
   "outputs": [],
   "source": [
    "# Define Function to display results\n",
    "def display_results(y_test, y_pred):\n",
    "    ''' \n",
    "    Function to display accuracy results. Takes in the test and predicted values and outputs a dataframe of accuracy\n",
    "    and a plot of accuracy per category\n",
    "    \n",
    "    Inputs: \n",
    "    y_test: Test dataframe/array\n",
    "    y_pred: Prediction from model\n",
    "    \n",
    "    Outputs:\n",
    "    results: Results dataframe of confusion matrix and accuracy per category\n",
    "    mean_accuracy_score: Mean of accuracy score across categories\n",
    "    std_accuracy_score: Standard deviation of accuracy score across categories\n",
    "    hi_accuracy_labels: Labels of categories with high accuracy\n",
    "    lo_accuracy_labels: Labels of categories with low accuracy\n",
    "    \n",
    "    '''\n",
    "    \n",
    "    #Initialize results dataframe\n",
    "    results=pd.DataFrame(columns=y_test.columns,index=['confusion_mat','precision','recall','f-score'])\n",
    "    # Populate results dataframe with confusion matrix, precision, recall ad f-score per category\n",
    "    i=0\n",
    "    for column in y_test.columns:\n",
    "        results.loc['confusion_mat',column] = confusion_matrix(y_test.loc[:,column], y_pred[:,i])\n",
    "        results.loc['precision',column]=precision_recall_fscore_support(y_test.loc[:,column] ,y_pred[:,i],average='micro')[0]\n",
    "        results.loc['recall',column]=precision_recall_fscore_support(y_test.loc[:,column] ,y_pred[:,i],average='micro')[1]\n",
    "        results.loc['f-score',column]=precision_recall_fscore_support(y_test.loc[:,column] ,y_pred[:,i],average='micro')[2]\n",
    "        i=i+1\n",
    "    # Plot F-score per category\n",
    "    fig=plt.figure(figsize=(12,8))\n",
    "    plt.barh(y_test.columns,results.loc['f-score',:])\n",
    "    # Make dataframe of confusion matrix and accuracy by category\n",
    "    mean_accuracy_score=results.loc['f-score',:].mean()\n",
    "    std_accuracy_score=results.loc['f-score',:].std()\n",
    "    accuracy_sorted=list(results.loc['f-score',:].sort_values(ascending=True))\n",
    "    hi_accuracy_labels=[]\n",
    "    lo_accuracy_labels=[]\n",
    "    acc_range=7\n",
    "    for sort_acc in accuracy_sorted[0:acc_range]:\n",
    "        for col in results.columns:\n",
    "            if results.loc['f-score',col]==sort_acc and col not in lo_accuracy_labels:\n",
    "                lo_accuracy_labels.append(col)\n",
    "    for sort_acc in accuracy_sorted[-acc_range-1:-1]:\n",
    "        for col in results.columns:\n",
    "            if results.loc['f-score',col]==sort_acc and col not in hi_accuracy_labels:\n",
    "                hi_accuracy_labels.append(col)\n",
    "    return results,mean_accuracy_score,std_accuracy_score,hi_accuracy_labels,lo_accuracy_labels\n"
   ]
  },
  {
   "cell_type": "code",
   "execution_count": 15,
   "metadata": {
    "scrolled": false
   },
   "outputs": [
    {
     "name": "stdout",
     "output_type": "stream",
     "text": [
      "Mean Accuracy: 0.9312888578414253\n",
      "Std. Accuracy: 0.11027794894446832\n",
      "Hi Accuracy:['missing_people', 'cold', 'military', 'hospitals', 'fire', 'shops', 'offer', 'tools']\n",
      "Lo Accuracy:['aid_related', 'related', 'request', 'weather_related', 'food', 'other_aid', 'shelter']\n"
     ]
    },
    {
     "data": {
      "text/html": [
       "<div>\n",
       "<style scoped>\n",
       "    .dataframe tbody tr th:only-of-type {\n",
       "        vertical-align: middle;\n",
       "    }\n",
       "\n",
       "    .dataframe tbody tr th {\n",
       "        vertical-align: top;\n",
       "    }\n",
       "\n",
       "    .dataframe thead th {\n",
       "        text-align: right;\n",
       "    }\n",
       "</style>\n",
       "<table border=\"1\" class=\"dataframe\">\n",
       "  <thead>\n",
       "    <tr style=\"text-align: right;\">\n",
       "      <th></th>\n",
       "      <th>related</th>\n",
       "      <th>request</th>\n",
       "      <th>offer</th>\n",
       "      <th>aid_related</th>\n",
       "      <th>medical_help</th>\n",
       "      <th>medical_products</th>\n",
       "      <th>search_and_rescue</th>\n",
       "      <th>security</th>\n",
       "      <th>military</th>\n",
       "      <th>child_alone</th>\n",
       "      <th>...</th>\n",
       "      <th>shops</th>\n",
       "      <th>aid_centers</th>\n",
       "      <th>other_infrastructure</th>\n",
       "      <th>weather_related</th>\n",
       "      <th>floods</th>\n",
       "      <th>storm</th>\n",
       "      <th>fire</th>\n",
       "      <th>earthquake</th>\n",
       "      <th>cold</th>\n",
       "      <th>other_weather</th>\n",
       "    </tr>\n",
       "  </thead>\n",
       "  <tbody>\n",
       "    <tr>\n",
       "      <th>confusion_mat</th>\n",
       "      <td>[[157, 470], [304, 1114]]</td>\n",
       "      <td>[[1148, 154], [616, 127]]</td>\n",
       "      <td>[[2042, 0], [3, 0]]</td>\n",
       "      <td>[[1026, 216], [620, 183]]</td>\n",
       "      <td>[[1931, 12], [102, 0]]</td>\n",
       "      <td>[[1967, 10], [68, 0]]</td>\n",
       "      <td>[[2000, 3], [42, 0]]</td>\n",
       "      <td>[[2014, 2], [28, 1]]</td>\n",
       "      <td>[[2035, 0], [10, 0]]</td>\n",
       "      <td>[[2045]]</td>\n",
       "      <td>...</td>\n",
       "      <td>[[2040, 1], [4, 0]]</td>\n",
       "      <td>[[2026, 1], [18, 0]]</td>\n",
       "      <td>[[2016, 1], [28, 0]]</td>\n",
       "      <td>[[1671, 56], [307, 11]]</td>\n",
       "      <td>[[1997, 2], [46, 0]]</td>\n",
       "      <td>[[1967, 5], [73, 0]]</td>\n",
       "      <td>[[2036, 0], [9, 0]]</td>\n",
       "      <td>[[1844, 23], [176, 2]]</td>\n",
       "      <td>[[2032, 0], [13, 0]]</td>\n",
       "      <td>[[1998, 5], [42, 0]]</td>\n",
       "    </tr>\n",
       "    <tr>\n",
       "      <th>precision</th>\n",
       "      <td>0.621516</td>\n",
       "      <td>0.623472</td>\n",
       "      <td>0.998533</td>\n",
       "      <td>0.591198</td>\n",
       "      <td>0.944254</td>\n",
       "      <td>0.961858</td>\n",
       "      <td>0.977995</td>\n",
       "      <td>0.98533</td>\n",
       "      <td>0.99511</td>\n",
       "      <td>1</td>\n",
       "      <td>...</td>\n",
       "      <td>0.997555</td>\n",
       "      <td>0.990709</td>\n",
       "      <td>0.985819</td>\n",
       "      <td>0.822494</td>\n",
       "      <td>0.976528</td>\n",
       "      <td>0.961858</td>\n",
       "      <td>0.995599</td>\n",
       "      <td>0.902689</td>\n",
       "      <td>0.993643</td>\n",
       "      <td>0.977017</td>\n",
       "    </tr>\n",
       "    <tr>\n",
       "      <th>recall</th>\n",
       "      <td>0.621516</td>\n",
       "      <td>0.623472</td>\n",
       "      <td>0.998533</td>\n",
       "      <td>0.591198</td>\n",
       "      <td>0.944254</td>\n",
       "      <td>0.961858</td>\n",
       "      <td>0.977995</td>\n",
       "      <td>0.98533</td>\n",
       "      <td>0.99511</td>\n",
       "      <td>1</td>\n",
       "      <td>...</td>\n",
       "      <td>0.997555</td>\n",
       "      <td>0.990709</td>\n",
       "      <td>0.985819</td>\n",
       "      <td>0.822494</td>\n",
       "      <td>0.976528</td>\n",
       "      <td>0.961858</td>\n",
       "      <td>0.995599</td>\n",
       "      <td>0.902689</td>\n",
       "      <td>0.993643</td>\n",
       "      <td>0.977017</td>\n",
       "    </tr>\n",
       "    <tr>\n",
       "      <th>f-score</th>\n",
       "      <td>0.621516</td>\n",
       "      <td>0.623472</td>\n",
       "      <td>0.998533</td>\n",
       "      <td>0.591198</td>\n",
       "      <td>0.944254</td>\n",
       "      <td>0.961858</td>\n",
       "      <td>0.977995</td>\n",
       "      <td>0.98533</td>\n",
       "      <td>0.99511</td>\n",
       "      <td>1</td>\n",
       "      <td>...</td>\n",
       "      <td>0.997555</td>\n",
       "      <td>0.990709</td>\n",
       "      <td>0.985819</td>\n",
       "      <td>0.822494</td>\n",
       "      <td>0.976528</td>\n",
       "      <td>0.961858</td>\n",
       "      <td>0.995599</td>\n",
       "      <td>0.902689</td>\n",
       "      <td>0.993643</td>\n",
       "      <td>0.977017</td>\n",
       "    </tr>\n",
       "  </tbody>\n",
       "</table>\n",
       "<p>4 rows × 35 columns</p>\n",
       "</div>"
      ],
      "text/plain": [
       "                                 related                    request  \\\n",
       "confusion_mat  [[157, 470], [304, 1114]]  [[1148, 154], [616, 127]]   \n",
       "precision                       0.621516                   0.623472   \n",
       "recall                          0.621516                   0.623472   \n",
       "f-score                         0.621516                   0.623472   \n",
       "\n",
       "                             offer                aid_related  \\\n",
       "confusion_mat  [[2042, 0], [3, 0]]  [[1026, 216], [620, 183]]   \n",
       "precision                 0.998533                   0.591198   \n",
       "recall                    0.998533                   0.591198   \n",
       "f-score                   0.998533                   0.591198   \n",
       "\n",
       "                         medical_help       medical_products  \\\n",
       "confusion_mat  [[1931, 12], [102, 0]]  [[1967, 10], [68, 0]]   \n",
       "precision                    0.944254               0.961858   \n",
       "recall                       0.944254               0.961858   \n",
       "f-score                      0.944254               0.961858   \n",
       "\n",
       "                  search_and_rescue              security  \\\n",
       "confusion_mat  [[2000, 3], [42, 0]]  [[2014, 2], [28, 1]]   \n",
       "precision                  0.977995               0.98533   \n",
       "recall                     0.977995               0.98533   \n",
       "f-score                    0.977995               0.98533   \n",
       "\n",
       "                           military child_alone          ...           \\\n",
       "confusion_mat  [[2035, 0], [10, 0]]    [[2045]]          ...            \n",
       "precision                   0.99511           1          ...            \n",
       "recall                      0.99511           1          ...            \n",
       "f-score                     0.99511           1          ...            \n",
       "\n",
       "                             shops           aid_centers  \\\n",
       "confusion_mat  [[2040, 1], [4, 0]]  [[2026, 1], [18, 0]]   \n",
       "precision                 0.997555              0.990709   \n",
       "recall                    0.997555              0.990709   \n",
       "f-score                   0.997555              0.990709   \n",
       "\n",
       "               other_infrastructure          weather_related  \\\n",
       "confusion_mat  [[2016, 1], [28, 0]]  [[1671, 56], [307, 11]]   \n",
       "precision                  0.985819                 0.822494   \n",
       "recall                     0.985819                 0.822494   \n",
       "f-score                    0.985819                 0.822494   \n",
       "\n",
       "                             floods                 storm  \\\n",
       "confusion_mat  [[1997, 2], [46, 0]]  [[1967, 5], [73, 0]]   \n",
       "precision                  0.976528              0.961858   \n",
       "recall                     0.976528              0.961858   \n",
       "f-score                    0.976528              0.961858   \n",
       "\n",
       "                              fire              earthquake  \\\n",
       "confusion_mat  [[2036, 0], [9, 0]]  [[1844, 23], [176, 2]]   \n",
       "precision                 0.995599                0.902689   \n",
       "recall                    0.995599                0.902689   \n",
       "f-score                   0.995599                0.902689   \n",
       "\n",
       "                               cold         other_weather  \n",
       "confusion_mat  [[2032, 0], [13, 0]]  [[1998, 5], [42, 0]]  \n",
       "precision                  0.993643              0.977017  \n",
       "recall                     0.993643              0.977017  \n",
       "f-score                    0.993643              0.977017  \n",
       "\n",
       "[4 rows x 35 columns]"
      ]
     },
     "execution_count": 15,
     "metadata": {},
     "output_type": "execute_result"
    },
    {
     "data": {
      "image/png": "[encoded data removed]",
      "text/plain": [
       "<matplotlib.figure.Figure at 0x7fbdabf4c8d0>"
      ]
     },
     "metadata": {
      "needs_background": "light"
     },
     "output_type": "display_data"
    }
   ],
   "source": [
    " # display results\n",
    "results,mean_accuracy_score,std_accuracy_score,hi_accuracy_labels,lo_accuracy_labels=display_results(y_test, y_pred)\n",
    "print('Mean Accuracy: {}'.format(mean_accuracy_score))\n",
    "print('Std. Accuracy: {}'.format(std_accuracy_score))\n",
    "print('Hi Accuracy:{}'.format(hi_accuracy_labels))\n",
    "print('Lo Accuracy:{}'.format(lo_accuracy_labels))\n",
    "results"
   ]
  },
  {
   "cell_type": "code",
   "execution_count": 16,
   "metadata": {
    "scrolled": false
   },
   "outputs": [
    {
     "data": {
      "text/plain": [
       "Text(0,0.5,'F-score')"
      ]
     },
     "execution_count": 16,
     "metadata": {},
     "output_type": "execute_result"
    },
    {
     "data": {
      "image/png": "[encoded data removed]",
      "text/plain": [
       "<matplotlib.figure.Figure at 0x7fbdabe6ba20>"
      ]
     },
     "metadata": {
      "needs_background": "light"
     },
     "output_type": "display_data"
    }
   ],
   "source": [
    "# Plot accuracy vs. length of True values per category in the original data\n",
    "X_list=[]\n",
    "accuracy=[]\n",
    "for i in range(len(Y.columns)) : \n",
    "    X_list.append(category_counts[i])\n",
    "    accuracy.append(results.loc['f-score',Y.columns[i]])\n",
    "fig=plt.figure(figsize=(12,8))\n",
    "plt.scatter(X_list,accuracy)\n",
    "plt.xlabel('Category Counts')\n",
    "plt.ylabel('F-score')"
   ]
  },
  {
   "cell_type": "markdown",
   "metadata": {},
   "source": [
    "### Observations"
   ]
  },
  {
   "cell_type": "markdown",
   "metadata": {},
   "source": [
    "It is seen that the accuracy is dependent strongly on the number of \"1\" values in each category; the higher the number, the lower the accuracy in general.\n",
    "\n",
    "***This is not ideal since we want to be more accurate on the categories with more \"1\"s since we expect more inputs in those categories from the real world****\n",
    "\n",
    "It is possible that this is due to the sparseness of the overall matrix and training matrix of encoded categories; the high number of zeros makes the model fit better to zero values than ones, thus increasing accuracy for those categories that have more zero values and decreasing it for those that have more ones\n",
    "\n",
    "To test this, we can artificially change the zero values in the \"hi_accuracy_labels\" to ones, rerun the analysis and see if the accuracy results change"
   ]
  },
  {
   "cell_type": "markdown",
   "metadata": {},
   "source": [
    "## Testing the model on a more balanced (less sparse) training data where the hi_accuracy_labels (more zeros) and changed to \"1\"s"
   ]
  },
  {
   "cell_type": "markdown",
   "metadata": {},
   "source": [
    "### Analyze the data with a Bal.(more Balanced) Y matrix (less sparse)"
   ]
  },
  {
   "cell_type": "code",
   "execution_count": 17,
   "metadata": {},
   "outputs": [],
   "source": [
    "# Change the sparse values in low volume categories to \"1\"s\n",
    "X_bal=X.copy()\n",
    "Y_bal=Y.copy()\n",
    "Y_bal[hi_accuracy_labels]=1"
   ]
  },
  {
   "cell_type": "markdown",
   "metadata": {},
   "source": [
    "### Compare the ratio of \"0\"s to \"1\"s in each category for the initial and balanced datasets"
   ]
  },
  {
   "cell_type": "code",
   "execution_count": 18,
   "metadata": {
    "scrolled": true
   },
   "outputs": [
    {
     "data": {
      "text/plain": [
       "related                      0.493063\n",
       "request                      1.842881\n",
       "offer                     1021.300000\n",
       "aid_related                  1.590068\n",
       "medical_help                16.966608\n",
       "medical_products            28.718023\n",
       "search_and_rescue           47.450237\n",
       "security                    77.038168\n",
       "military                   231.340909\n",
       "child_alone                       inf\n",
       "water                       11.810777\n",
       "food                         5.721236\n",
       "shelter                      8.518622\n",
       "clothing                   106.610526\n",
       "money                       80.784000\n",
       "missing_people             119.270588\n",
       "refugees                    60.584337\n",
       "death                       39.729084\n",
       "other_aid                    6.030949\n",
       "infrastructure_related      32.084142\n",
       "transport                   51.695876\n",
       "buildings                   26.629730\n",
       "electricity                151.582090\n",
       "tools                      339.766667\n",
       "hospitals                  188.314815\n",
       "shops                      364.107143\n",
       "aid_centers                133.513158\n",
       "other_infrastructure        58.783626\n",
       "weather_related              5.716820\n",
       "floods                      38.624031\n",
       "storm                       30.072948\n",
       "fire                       261.128205\n",
       "earthquake                  11.155767\n",
       "cold                       169.383333\n",
       "other_weather               51.425641\n",
       "dtype: float64"
      ]
     },
     "execution_count": 18,
     "metadata": {},
     "output_type": "execute_result"
    }
   ],
   "source": [
    "Y[Y==0].count()/(Y[Y==1].count())"
   ]
  },
  {
   "cell_type": "code",
   "execution_count": 19,
   "metadata": {
    "scrolled": true
   },
   "outputs": [
    {
     "data": {
      "text/plain": [
       "related                     0.493063\n",
       "request                     1.842881\n",
       "offer                       0.000000\n",
       "aid_related                 1.590068\n",
       "medical_help               16.966608\n",
       "medical_products           28.718023\n",
       "search_and_rescue          47.450237\n",
       "security                   77.038168\n",
       "military                    0.000000\n",
       "child_alone                      inf\n",
       "water                      11.810777\n",
       "food                        5.721236\n",
       "shelter                     8.518622\n",
       "clothing                  106.610526\n",
       "money                      80.784000\n",
       "missing_people              0.000000\n",
       "refugees                   60.584337\n",
       "death                      39.729084\n",
       "other_aid                   6.030949\n",
       "infrastructure_related     32.084142\n",
       "transport                  51.695876\n",
       "buildings                  26.629730\n",
       "electricity               151.582090\n",
       "tools                       0.000000\n",
       "hospitals                   0.000000\n",
       "shops                       0.000000\n",
       "aid_centers               133.513158\n",
       "other_infrastructure       58.783626\n",
       "weather_related             5.716820\n",
       "floods                     38.624031\n",
       "storm                      30.072948\n",
       "fire                        0.000000\n",
       "earthquake                 11.155767\n",
       "cold                        0.000000\n",
       "other_weather              51.425641\n",
       "dtype: float64"
      ]
     },
     "execution_count": 19,
     "metadata": {},
     "output_type": "execute_result"
    }
   ],
   "source": [
    "Y_bal[Y_bal==0].count()/(Y_bal[Y_bal==1].count())"
   ]
  },
  {
   "cell_type": "markdown",
   "metadata": {},
   "source": [
    "### Plot the number of \"1\"s per category for the \"balanced\" dataset"
   ]
  },
  {
   "cell_type": "code",
   "execution_count": 20,
   "metadata": {
    "scrolled": false
   },
   "outputs": [
    {
     "data": {
      "text/plain": [
       "<Container object of 35 artists>"
      ]
     },
     "execution_count": 20,
     "metadata": {},
     "output_type": "execute_result"
    },
    {
     "data": {
      "image/png": "[encoded data removed]",
      "text/plain": [
       "<matplotlib.figure.Figure at 0x7fbdabad4c88>"
      ]
     },
     "metadata": {
      "needs_background": "light"
     },
     "output_type": "display_data"
    }
   ],
   "source": [
    "category_counts_bal=[]\n",
    "for i in range(len(Y_bal.columns)):\n",
    "    category_counts_bal.append(Y_bal.iloc[:,i].sum())\n",
    "fig=plt.figure(figsize=(12,8))\n",
    "plt.barh(Y_bal.columns,category_counts_bal)"
   ]
  },
  {
   "cell_type": "code",
   "execution_count": 21,
   "metadata": {
    "scrolled": true
   },
   "outputs": [],
   "source": [
    "X_train_bal, X_test_bal, y_train_bal, y_test_bal = train_test_split(X_bal, Y_bal,test_size=0.2)\n",
    "model=pipeline\n",
    "#X_train_bal=X_bal\n",
    "#y_train_bal=Y_bal\n",
    "X_test_bal=X_test.copy()\n",
    "y_test_bal=y_test.copy()\n",
    "\n",
    "#y_train_bal[:]=1\n",
    "\n"
   ]
  },
  {
   "cell_type": "code",
   "execution_count": 22,
   "metadata": {},
   "outputs": [
    {
     "data": {
      "text/html": [
       "<div>\n",
       "<style scoped>\n",
       "    .dataframe tbody tr th:only-of-type {\n",
       "        vertical-align: middle;\n",
       "    }\n",
       "\n",
       "    .dataframe tbody tr th {\n",
       "        vertical-align: top;\n",
       "    }\n",
       "\n",
       "    .dataframe thead th {\n",
       "        text-align: right;\n",
       "    }\n",
       "</style>\n",
       "<table border=\"1\" class=\"dataframe\">\n",
       "  <thead>\n",
       "    <tr style=\"text-align: right;\">\n",
       "      <th></th>\n",
       "      <th>related</th>\n",
       "      <th>request</th>\n",
       "      <th>offer</th>\n",
       "      <th>aid_related</th>\n",
       "      <th>medical_help</th>\n",
       "      <th>medical_products</th>\n",
       "      <th>search_and_rescue</th>\n",
       "      <th>security</th>\n",
       "      <th>military</th>\n",
       "      <th>child_alone</th>\n",
       "      <th>...</th>\n",
       "      <th>shops</th>\n",
       "      <th>aid_centers</th>\n",
       "      <th>other_infrastructure</th>\n",
       "      <th>weather_related</th>\n",
       "      <th>floods</th>\n",
       "      <th>storm</th>\n",
       "      <th>fire</th>\n",
       "      <th>earthquake</th>\n",
       "      <th>cold</th>\n",
       "      <th>other_weather</th>\n",
       "    </tr>\n",
       "  </thead>\n",
       "  <tbody>\n",
       "    <tr>\n",
       "      <th>7343</th>\n",
       "      <td>0.0</td>\n",
       "      <td>0.0</td>\n",
       "      <td>1.0</td>\n",
       "      <td>0.0</td>\n",
       "      <td>0.0</td>\n",
       "      <td>0.0</td>\n",
       "      <td>0.0</td>\n",
       "      <td>0.0</td>\n",
       "      <td>1.0</td>\n",
       "      <td>0.0</td>\n",
       "      <td>...</td>\n",
       "      <td>1.0</td>\n",
       "      <td>0.0</td>\n",
       "      <td>0.0</td>\n",
       "      <td>0.0</td>\n",
       "      <td>0.0</td>\n",
       "      <td>0.0</td>\n",
       "      <td>1.0</td>\n",
       "      <td>0.0</td>\n",
       "      <td>1.0</td>\n",
       "      <td>0.0</td>\n",
       "    </tr>\n",
       "    <tr>\n",
       "      <th>6449</th>\n",
       "      <td>0.0</td>\n",
       "      <td>0.0</td>\n",
       "      <td>1.0</td>\n",
       "      <td>0.0</td>\n",
       "      <td>0.0</td>\n",
       "      <td>0.0</td>\n",
       "      <td>0.0</td>\n",
       "      <td>0.0</td>\n",
       "      <td>1.0</td>\n",
       "      <td>0.0</td>\n",
       "      <td>...</td>\n",
       "      <td>1.0</td>\n",
       "      <td>0.0</td>\n",
       "      <td>0.0</td>\n",
       "      <td>0.0</td>\n",
       "      <td>0.0</td>\n",
       "      <td>0.0</td>\n",
       "      <td>1.0</td>\n",
       "      <td>0.0</td>\n",
       "      <td>1.0</td>\n",
       "      <td>0.0</td>\n",
       "    </tr>\n",
       "    <tr>\n",
       "      <th>6160</th>\n",
       "      <td>1.0</td>\n",
       "      <td>1.0</td>\n",
       "      <td>1.0</td>\n",
       "      <td>1.0</td>\n",
       "      <td>0.0</td>\n",
       "      <td>1.0</td>\n",
       "      <td>0.0</td>\n",
       "      <td>0.0</td>\n",
       "      <td>1.0</td>\n",
       "      <td>0.0</td>\n",
       "      <td>...</td>\n",
       "      <td>1.0</td>\n",
       "      <td>0.0</td>\n",
       "      <td>0.0</td>\n",
       "      <td>0.0</td>\n",
       "      <td>0.0</td>\n",
       "      <td>0.0</td>\n",
       "      <td>1.0</td>\n",
       "      <td>0.0</td>\n",
       "      <td>1.0</td>\n",
       "      <td>0.0</td>\n",
       "    </tr>\n",
       "    <tr>\n",
       "      <th>9099</th>\n",
       "      <td>0.0</td>\n",
       "      <td>0.0</td>\n",
       "      <td>1.0</td>\n",
       "      <td>0.0</td>\n",
       "      <td>0.0</td>\n",
       "      <td>0.0</td>\n",
       "      <td>0.0</td>\n",
       "      <td>0.0</td>\n",
       "      <td>1.0</td>\n",
       "      <td>0.0</td>\n",
       "      <td>...</td>\n",
       "      <td>1.0</td>\n",
       "      <td>0.0</td>\n",
       "      <td>0.0</td>\n",
       "      <td>0.0</td>\n",
       "      <td>0.0</td>\n",
       "      <td>0.0</td>\n",
       "      <td>1.0</td>\n",
       "      <td>0.0</td>\n",
       "      <td>1.0</td>\n",
       "      <td>0.0</td>\n",
       "    </tr>\n",
       "    <tr>\n",
       "      <th>2050</th>\n",
       "      <td>0.0</td>\n",
       "      <td>0.0</td>\n",
       "      <td>1.0</td>\n",
       "      <td>0.0</td>\n",
       "      <td>0.0</td>\n",
       "      <td>0.0</td>\n",
       "      <td>0.0</td>\n",
       "      <td>0.0</td>\n",
       "      <td>1.0</td>\n",
       "      <td>0.0</td>\n",
       "      <td>...</td>\n",
       "      <td>1.0</td>\n",
       "      <td>0.0</td>\n",
       "      <td>0.0</td>\n",
       "      <td>0.0</td>\n",
       "      <td>0.0</td>\n",
       "      <td>0.0</td>\n",
       "      <td>1.0</td>\n",
       "      <td>0.0</td>\n",
       "      <td>1.0</td>\n",
       "      <td>0.0</td>\n",
       "    </tr>\n",
       "  </tbody>\n",
       "</table>\n",
       "<p>5 rows × 35 columns</p>\n",
       "</div>"
      ],
      "text/plain": [
       "      related  request  offer  aid_related  medical_help  medical_products  \\\n",
       "7343      0.0      0.0    1.0          0.0           0.0               0.0   \n",
       "6449      0.0      0.0    1.0          0.0           0.0               0.0   \n",
       "6160      1.0      1.0    1.0          1.0           0.0               1.0   \n",
       "9099      0.0      0.0    1.0          0.0           0.0               0.0   \n",
       "2050      0.0      0.0    1.0          0.0           0.0               0.0   \n",
       "\n",
       "      search_and_rescue  security  military  child_alone      ...        \\\n",
       "7343                0.0       0.0       1.0          0.0      ...         \n",
       "6449                0.0       0.0       1.0          0.0      ...         \n",
       "6160                0.0       0.0       1.0          0.0      ...         \n",
       "9099                0.0       0.0       1.0          0.0      ...         \n",
       "2050                0.0       0.0       1.0          0.0      ...         \n",
       "\n",
       "      shops  aid_centers  other_infrastructure  weather_related  floods  \\\n",
       "7343    1.0          0.0                   0.0              0.0     0.0   \n",
       "6449    1.0          0.0                   0.0              0.0     0.0   \n",
       "6160    1.0          0.0                   0.0              0.0     0.0   \n",
       "9099    1.0          0.0                   0.0              0.0     0.0   \n",
       "2050    1.0          0.0                   0.0              0.0     0.0   \n",
       "\n",
       "      storm  fire  earthquake  cold  other_weather  \n",
       "7343    0.0   1.0         0.0   1.0            0.0  \n",
       "6449    0.0   1.0         0.0   1.0            0.0  \n",
       "6160    0.0   1.0         0.0   1.0            0.0  \n",
       "9099    0.0   1.0         0.0   1.0            0.0  \n",
       "2050    0.0   1.0         0.0   1.0            0.0  \n",
       "\n",
       "[5 rows x 35 columns]"
      ]
     },
     "execution_count": 22,
     "metadata": {},
     "output_type": "execute_result"
    }
   ],
   "source": [
    "y_train_bal.head()"
   ]
  },
  {
   "cell_type": "code",
   "execution_count": 23,
   "metadata": {},
   "outputs": [
    {
     "data": {
      "text/plain": [
       "Pipeline(memory=None,\n",
       "     steps=[('vect', TfidfVectorizer(analyzer='word', binary=False, decode_error='strict',\n",
       "        dtype=<class 'numpy.int64'>, encoding='utf-8', input='content',\n",
       "        lowercase=True, max_df=1.0, max_features=None, min_df=1,\n",
       "        ngram_range=(1, 1), norm='l2', preprocessor=None, smooth_idf=True,\n",
       "  ...oob_score=False, random_state=None, verbose=0,\n",
       "            warm_start=False),\n",
       "           n_jobs=1))])"
      ]
     },
     "execution_count": 23,
     "metadata": {},
     "output_type": "execute_result"
    }
   ],
   "source": [
    "model.fit(X_train_bal,y_train_bal)"
   ]
  },
  {
   "cell_type": "code",
   "execution_count": 24,
   "metadata": {
    "scrolled": false
   },
   "outputs": [
    {
     "name": "stdout",
     "output_type": "stream",
     "text": [
      "35 35\n"
     ]
    },
    {
     "data": {
      "text/plain": [
       "<matplotlib.collections.PathCollection at 0x7fbdabf53978>"
      ]
     },
     "execution_count": 24,
     "metadata": {},
     "output_type": "execute_result"
    },
    {
     "data": {
      "image/png": "[encoded data removed]",
      "text/plain": [
       "<matplotlib.figure.Figure at 0x7fbdabff59b0>"
      ]
     },
     "metadata": {
      "needs_background": "light"
     },
     "output_type": "display_data"
    }
   ],
   "source": [
    "train_category_counts_bal=[]\n",
    "for i in range(len(y_train_bal.columns)):\n",
    "    train_category_counts_bal.append(y_train_bal.iloc[:,i].sum())\n",
    "fig=plt.figure(figsize=(12,8))\n",
    "print(len(Y_bal.columns),len(y_train_bal.columns))\n",
    "plt.scatter(category_counts,train_category_counts_bal)"
   ]
  },
  {
   "cell_type": "code",
   "execution_count": 25,
   "metadata": {
    "scrolled": true
   },
   "outputs": [
    {
     "data": {
      "text/plain": [
       "(2045, 35)"
      ]
     },
     "execution_count": 25,
     "metadata": {},
     "output_type": "execute_result"
    }
   ],
   "source": [
    "# predict on test data\n",
    "y_pred_bal = model.predict(X_test_bal)\n",
    "y_pred_bal.shape"
   ]
  },
  {
   "cell_type": "code",
   "execution_count": 26,
   "metadata": {
    "scrolled": true
   },
   "outputs": [
    {
     "name": "stdout",
     "output_type": "stream",
     "text": [
      "Mean Accuracy: 0.7488229130282922\n",
      "Std. Accuracy: 0.4126422904825319\n",
      "Hi Accuracy:['money', 'electricity', 'transport', 'other_infrastructure', 'security', 'clothing', 'aid_centers']\n",
      "Lo Accuracy:['tools', 'offer', 'shops', 'hospitals', 'fire', 'military', 'missing_people']\n"
     ]
    },
    {
     "data": {
      "text/html": [
       "<div>\n",
       "<style scoped>\n",
       "    .dataframe tbody tr th:only-of-type {\n",
       "        vertical-align: middle;\n",
       "    }\n",
       "\n",
       "    .dataframe tbody tr th {\n",
       "        vertical-align: top;\n",
       "    }\n",
       "\n",
       "    .dataframe thead th {\n",
       "        text-align: right;\n",
       "    }\n",
       "</style>\n",
       "<table border=\"1\" class=\"dataframe\">\n",
       "  <thead>\n",
       "    <tr style=\"text-align: right;\">\n",
       "      <th></th>\n",
       "      <th>related</th>\n",
       "      <th>request</th>\n",
       "      <th>offer</th>\n",
       "      <th>aid_related</th>\n",
       "      <th>medical_help</th>\n",
       "      <th>medical_products</th>\n",
       "      <th>search_and_rescue</th>\n",
       "      <th>security</th>\n",
       "      <th>military</th>\n",
       "      <th>child_alone</th>\n",
       "      <th>...</th>\n",
       "      <th>shops</th>\n",
       "      <th>aid_centers</th>\n",
       "      <th>other_infrastructure</th>\n",
       "      <th>weather_related</th>\n",
       "      <th>floods</th>\n",
       "      <th>storm</th>\n",
       "      <th>fire</th>\n",
       "      <th>earthquake</th>\n",
       "      <th>cold</th>\n",
       "      <th>other_weather</th>\n",
       "    </tr>\n",
       "  </thead>\n",
       "  <tbody>\n",
       "    <tr>\n",
       "      <th>confusion_mat</th>\n",
       "      <td>[[503, 124], [77, 1341]]</td>\n",
       "      <td>[[1262, 40], [195, 548]]</td>\n",
       "      <td>[[0, 2042], [0, 3]]</td>\n",
       "      <td>[[1184, 58], [192, 611]]</td>\n",
       "      <td>[[1940, 3], [45, 57]]</td>\n",
       "      <td>[[1974, 3], [26, 42]]</td>\n",
       "      <td>[[2003, 0], [22, 20]]</td>\n",
       "      <td>[[2016, 0], [9, 20]]</td>\n",
       "      <td>[[0, 2035], [0, 10]]</td>\n",
       "      <td>[[2045]]</td>\n",
       "      <td>...</td>\n",
       "      <td>[[0, 2041], [0, 4]]</td>\n",
       "      <td>[[2026, 1], [6, 12]]</td>\n",
       "      <td>[[2017, 0], [12, 16]]</td>\n",
       "      <td>[[1712, 15], [122, 196]]</td>\n",
       "      <td>[[1998, 1], [16, 30]]</td>\n",
       "      <td>[[1972, 0], [32, 41]]</td>\n",
       "      <td>[[0, 2036], [0, 9]]</td>\n",
       "      <td>[[1864, 3], [72, 106]]</td>\n",
       "      <td>[[0, 2032], [0, 13]]</td>\n",
       "      <td>[[2002, 1], [18, 24]]</td>\n",
       "    </tr>\n",
       "    <tr>\n",
       "      <th>precision</th>\n",
       "      <td>0.901711</td>\n",
       "      <td>0.885086</td>\n",
       "      <td>0.00146699</td>\n",
       "      <td>0.877751</td>\n",
       "      <td>0.976528</td>\n",
       "      <td>0.985819</td>\n",
       "      <td>0.989242</td>\n",
       "      <td>0.995599</td>\n",
       "      <td>0.00488998</td>\n",
       "      <td>1</td>\n",
       "      <td>...</td>\n",
       "      <td>0.00195599</td>\n",
       "      <td>0.996577</td>\n",
       "      <td>0.994132</td>\n",
       "      <td>0.933007</td>\n",
       "      <td>0.991687</td>\n",
       "      <td>0.984352</td>\n",
       "      <td>0.00440098</td>\n",
       "      <td>0.963325</td>\n",
       "      <td>0.00635697</td>\n",
       "      <td>0.990709</td>\n",
       "    </tr>\n",
       "    <tr>\n",
       "      <th>recall</th>\n",
       "      <td>0.901711</td>\n",
       "      <td>0.885086</td>\n",
       "      <td>0.00146699</td>\n",
       "      <td>0.877751</td>\n",
       "      <td>0.976528</td>\n",
       "      <td>0.985819</td>\n",
       "      <td>0.989242</td>\n",
       "      <td>0.995599</td>\n",
       "      <td>0.00488998</td>\n",
       "      <td>1</td>\n",
       "      <td>...</td>\n",
       "      <td>0.00195599</td>\n",
       "      <td>0.996577</td>\n",
       "      <td>0.994132</td>\n",
       "      <td>0.933007</td>\n",
       "      <td>0.991687</td>\n",
       "      <td>0.984352</td>\n",
       "      <td>0.00440098</td>\n",
       "      <td>0.963325</td>\n",
       "      <td>0.00635697</td>\n",
       "      <td>0.990709</td>\n",
       "    </tr>\n",
       "    <tr>\n",
       "      <th>f-score</th>\n",
       "      <td>0.901711</td>\n",
       "      <td>0.885086</td>\n",
       "      <td>0.00146699</td>\n",
       "      <td>0.877751</td>\n",
       "      <td>0.976528</td>\n",
       "      <td>0.985819</td>\n",
       "      <td>0.989242</td>\n",
       "      <td>0.995599</td>\n",
       "      <td>0.00488998</td>\n",
       "      <td>1</td>\n",
       "      <td>...</td>\n",
       "      <td>0.00195599</td>\n",
       "      <td>0.996577</td>\n",
       "      <td>0.994132</td>\n",
       "      <td>0.933007</td>\n",
       "      <td>0.991687</td>\n",
       "      <td>0.984352</td>\n",
       "      <td>0.00440098</td>\n",
       "      <td>0.963325</td>\n",
       "      <td>0.00635697</td>\n",
       "      <td>0.990709</td>\n",
       "    </tr>\n",
       "  </tbody>\n",
       "</table>\n",
       "<p>4 rows × 35 columns</p>\n",
       "</div>"
      ],
      "text/plain": [
       "                                related                   request  \\\n",
       "confusion_mat  [[503, 124], [77, 1341]]  [[1262, 40], [195, 548]]   \n",
       "precision                      0.901711                  0.885086   \n",
       "recall                         0.901711                  0.885086   \n",
       "f-score                        0.901711                  0.885086   \n",
       "\n",
       "                             offer               aid_related  \\\n",
       "confusion_mat  [[0, 2042], [0, 3]]  [[1184, 58], [192, 611]]   \n",
       "precision               0.00146699                  0.877751   \n",
       "recall                  0.00146699                  0.877751   \n",
       "f-score                 0.00146699                  0.877751   \n",
       "\n",
       "                        medical_help       medical_products  \\\n",
       "confusion_mat  [[1940, 3], [45, 57]]  [[1974, 3], [26, 42]]   \n",
       "precision                   0.976528               0.985819   \n",
       "recall                      0.976528               0.985819   \n",
       "f-score                     0.976528               0.985819   \n",
       "\n",
       "                   search_and_rescue              security  \\\n",
       "confusion_mat  [[2003, 0], [22, 20]]  [[2016, 0], [9, 20]]   \n",
       "precision                   0.989242              0.995599   \n",
       "recall                      0.989242              0.995599   \n",
       "f-score                     0.989242              0.995599   \n",
       "\n",
       "                           military child_alone          ...            \\\n",
       "confusion_mat  [[0, 2035], [0, 10]]    [[2045]]          ...             \n",
       "precision                0.00488998           1          ...             \n",
       "recall                   0.00488998           1          ...             \n",
       "f-score                  0.00488998           1          ...             \n",
       "\n",
       "                             shops           aid_centers  \\\n",
       "confusion_mat  [[0, 2041], [0, 4]]  [[2026, 1], [6, 12]]   \n",
       "precision               0.00195599              0.996577   \n",
       "recall                  0.00195599              0.996577   \n",
       "f-score                 0.00195599              0.996577   \n",
       "\n",
       "                other_infrastructure           weather_related  \\\n",
       "confusion_mat  [[2017, 0], [12, 16]]  [[1712, 15], [122, 196]]   \n",
       "precision                   0.994132                  0.933007   \n",
       "recall                      0.994132                  0.933007   \n",
       "f-score                     0.994132                  0.933007   \n",
       "\n",
       "                              floods                  storm  \\\n",
       "confusion_mat  [[1998, 1], [16, 30]]  [[1972, 0], [32, 41]]   \n",
       "precision                   0.991687               0.984352   \n",
       "recall                      0.991687               0.984352   \n",
       "f-score                     0.991687               0.984352   \n",
       "\n",
       "                              fire              earthquake  \\\n",
       "confusion_mat  [[0, 2036], [0, 9]]  [[1864, 3], [72, 106]]   \n",
       "precision               0.00440098                0.963325   \n",
       "recall                  0.00440098                0.963325   \n",
       "f-score                 0.00440098                0.963325   \n",
       "\n",
       "                               cold          other_weather  \n",
       "confusion_mat  [[0, 2032], [0, 13]]  [[2002, 1], [18, 24]]  \n",
       "precision                0.00635697               0.990709  \n",
       "recall                   0.00635697               0.990709  \n",
       "f-score                  0.00635697               0.990709  \n",
       "\n",
       "[4 rows x 35 columns]"
      ]
     },
     "execution_count": 26,
     "metadata": {},
     "output_type": "execute_result"
    },
    {
     "data": {
      "image/png": "[encoded data removed]",
      "text/plain": [
       "<matplotlib.figure.Figure at 0x7fbdac017160>"
      ]
     },
     "metadata": {
      "needs_background": "light"
     },
     "output_type": "display_data"
    }
   ],
   "source": [
    " # display results\n",
    "results_bal,mean_accuracy_score_bal,std_accuracy_score_bal,hi_accuracy_labels_bal,lo_accuracy_labels_bal=display_results(y_test_bal, \n",
    "                                                                                                                         y_pred_bal)\n",
    "print('Mean Accuracy: {}'.format(mean_accuracy_score_bal))\n",
    "print('Std. Accuracy: {}'.format(std_accuracy_score_bal))\n",
    "print('Hi Accuracy:{}'.format(hi_accuracy_labels_bal))\n",
    "print('Lo Accuracy:{}'.format(lo_accuracy_labels_bal))\n",
    "results_bal"
   ]
  },
  {
   "cell_type": "code",
   "execution_count": 27,
   "metadata": {
    "scrolled": false
   },
   "outputs": [
    {
     "data": {
      "text/plain": [
       "<matplotlib.legend.Legend at 0x7fbdab57c748>"
      ]
     },
     "execution_count": 27,
     "metadata": {},
     "output_type": "execute_result"
    },
    {
     "data": {
      "image/png": "[encoded data removed]",
      "text/plain": [
       "<matplotlib.figure.Figure at 0x7fbdab5abc88>"
      ]
     },
     "metadata": {
      "needs_background": "light"
     },
     "output_type": "display_data"
    }
   ],
   "source": [
    "X_list_bal=[]\n",
    "accuracy_bal=[]\n",
    "for i in range(len(Y_bal.columns)) : \n",
    "    X_list_bal.append(category_counts_bal[i])\n",
    "    accuracy_bal.append(results_bal.loc['f-score',Y_bal.columns[i]])\n",
    "fig=plt.figure(figsize=(12,8))\n",
    "plt.scatter(X_list,accuracy_bal)\n",
    "plt.scatter(X_list,accuracy)\n",
    "plt.xlabel('Category Quantity')\n",
    "plt.ylabel('Accuracy F-Score')\n",
    "plt.legend(['Bal.','Initial'])"
   ]
  },
  {
   "cell_type": "code",
   "execution_count": 28,
   "metadata": {
    "scrolled": false
   },
   "outputs": [
    {
     "data": {
      "text/plain": [
       "precision    0.035769\n",
       "recall       0.035769\n",
       "f-score      0.035769\n",
       "dtype: float64"
      ]
     },
     "execution_count": 28,
     "metadata": {},
     "output_type": "execute_result"
    }
   ],
   "source": [
    " #Calculate Standard deviation in accuracy with the artificially inflated categories removed\n",
    "cols=hi_accuracy_labels.copy()\n",
    "cols.append('child_alone')\n",
    "results_bal.drop(columns=cols).transpose().iloc[:,1:4].std()"
   ]
  },
  {
   "cell_type": "markdown",
   "metadata": {},
   "source": [
    "### Observations:"
   ]
  },
  {
   "cell_type": "markdown",
   "metadata": {},
   "source": [
    "1. We can see that there is a significant increase in accuracy before and after balancing the training set to decrease sparseness\n",
    "2. The few values of the balanced set that show zero accuracy are those categories that have all ones in them (which was done artificially to decrease sparseness on low volume data)\n",
    "3. Recalculating the standard deviations of accuracy after removing these categories, we see a very small spread compared to with the categories"
   ]
  },
  {
   "cell_type": "markdown",
   "metadata": {},
   "source": [
    "### Conclusions:"
   ]
  },
  {
   "cell_type": "markdown",
   "metadata": {},
   "source": [
    "1. The major reason for low accuracy is the sparse nature of the matrix\n",
    "2. One way to resolve this is to artificially induce non-sparse values to essentially make the sparse categories redundant and gain improved accuracy on high volume categories"
   ]
  },
  {
   "cell_type": "markdown",
   "metadata": {},
   "source": [
    "### 6. Improve your model\n",
    "Use grid search to find better parameters. "
   ]
  },
  {
   "cell_type": "markdown",
   "metadata": {},
   "source": [
    "*** Due to grid search being time intensive, the GridSearchcv results are done on the workspace IDE. However the code is included in this section ***"
   ]
  },
  {
   "cell_type": "raw",
   "metadata": {},
   "source": [
    "def build_model():\n",
    "    pipeline = Pipeline([\n",
    "        ('features', FeatureUnion([\n",
    "\n",
    "            ('text_pipeline', Pipeline([\n",
    "                ('vect', CountVectorizer(tokenizer=tokenize)),\n",
    "                ('tfidf', TfidfTransformer())\n",
    "            ])),\n",
    "\n",
    "            ('starting_verb', StartingVerbExtractor())\n",
    "        ])),\n",
    "\n",
    "        ('clf',RandomForestClassifier())\n",
    "    ])\n",
    "    parameters = {\n",
    "        'clf__n_estimators': [50, 100, 200],\n",
    "        'clf__min_samples_split': [2, 3, 4]}\n",
    "    cv = GridSearchCV(pipeline, param_grid=parameters,n_jobs=4,verbose=2)\n",
    "    return cv"
   ]
  },
  {
   "cell_type": "raw",
   "metadata": {
    "scrolled": false
   },
   "source": [
    "X_train, X_test, y_train, y_test = train_test_split(X, Y,train_size=0.1,random_state=np.random.randint(0,42))\n",
    "# train classifier\n",
    "model = build_model()\n"
   ]
  },
  {
   "cell_type": "raw",
   "metadata": {},
   "source": [
    "moc = MultiOutputClassifier(RandomForestClassifier())\n",
    "pipeline = Pipeline([\n",
    "        ('vect', CountVectorizer(tokenizer=tokenize)),\n",
    "        ('tfidf', TfidfTransformer()),\n",
    "        ('clf', moc)\n",
    "        ])\n",
    "moc.get_params().keys()"
   ]
  },
  {
   "cell_type": "raw",
   "metadata": {},
   "source": [
    "#model=pipeline\n",
    "model.fit(X_train, y_train)"
   ]
  },
  {
   "cell_type": "code",
   "execution_count": 29,
   "metadata": {},
   "outputs": [],
   "source": [
    "y_pred = model.predict(X_test)"
   ]
  },
  {
   "cell_type": "markdown",
   "metadata": {},
   "source": [
    "### 7. Test your model\n",
    "Show the accuracy, precision, and recall of the tuned model.  \n",
    "\n",
    "Since this project focuses on code quality, process, and  pipelines, there is no minimum performance metric needed to pass. However, make sure to fine tune your models for accuracy, precision and recall to make your project stand out - especially for your portfolio!"
   ]
  },
  {
   "cell_type": "raw",
   "metadata": {},
   "source": [
    " # display results\n",
    "results,mean_accuracy_score,hi_accuracy_labels,lo_accuracy_labels=display_results(y_test, y_pred)\n",
    "print('Mean Accuracy: {}'.format(mean_accuracy_score))\n",
    "print('Lo Accuracy:{}'.format(lo_accuracy_labels))\n",
    "results"
   ]
  },
  {
   "cell_type": "markdown",
   "metadata": {},
   "source": [
    "### 8. Try improving your model further. Here are a few ideas:\n",
    "* try other machine learning algorithms\n",
    "* add other features besides the TF-IDF\n",
    "\n"
   ]
  },
  {
   "cell_type": "markdown",
   "metadata": {},
   "source": [
    "<br>***Based on the recommendation at this link, We can try out KNeighborsClassifier on the same train and test set as the RFC:*** </br>\n",
    "<br><href>https://scikit-learn.org/stable/auto_examples/classification/plot_classifier_comparison.html</href></br>"
   ]
  },
  {
   "cell_type": "code",
   "execution_count": 30,
   "metadata": {},
   "outputs": [
    {
     "name": "stdout",
     "output_type": "stream",
     "text": [
      "(8178,) (8178, 35) [ 0.  1.]\n"
     ]
    }
   ],
   "source": [
    "# Create training and test sets with the same split as for RFC and make pipeline using KNeighborsClassifier\n",
    "X_train_2, X_test_2, y_train_2, y_test_2 = train_test_split(X, Y,test_size=0.2)\n",
    "print(X_train_2.shape,y_train_2.shape,np.unique(y_train_2))\n",
    "pipeline_2 = Pipeline([\n",
    "        ('vect', TfidfVectorizer(tokenizer=tokenize)),\n",
    "        ('clf',MultiOutputClassifier(KNeighborsClassifier())),\n",
    "    ])"
   ]
  },
  {
   "cell_type": "code",
   "execution_count": 31,
   "metadata": {
    "scrolled": false
   },
   "outputs": [
    {
     "data": {
      "text/html": [
       "<div>\n",
       "<style scoped>\n",
       "    .dataframe tbody tr th:only-of-type {\n",
       "        vertical-align: middle;\n",
       "    }\n",
       "\n",
       "    .dataframe tbody tr th {\n",
       "        vertical-align: top;\n",
       "    }\n",
       "\n",
       "    .dataframe thead th {\n",
       "        text-align: right;\n",
       "    }\n",
       "</style>\n",
       "<table border=\"1\" class=\"dataframe\">\n",
       "  <thead>\n",
       "    <tr style=\"text-align: right;\">\n",
       "      <th></th>\n",
       "      <th>related</th>\n",
       "      <th>request</th>\n",
       "      <th>offer</th>\n",
       "      <th>aid_related</th>\n",
       "      <th>medical_help</th>\n",
       "      <th>medical_products</th>\n",
       "      <th>search_and_rescue</th>\n",
       "      <th>security</th>\n",
       "      <th>military</th>\n",
       "      <th>child_alone</th>\n",
       "      <th>...</th>\n",
       "      <th>shops</th>\n",
       "      <th>aid_centers</th>\n",
       "      <th>other_infrastructure</th>\n",
       "      <th>weather_related</th>\n",
       "      <th>floods</th>\n",
       "      <th>storm</th>\n",
       "      <th>fire</th>\n",
       "      <th>earthquake</th>\n",
       "      <th>cold</th>\n",
       "      <th>other_weather</th>\n",
       "    </tr>\n",
       "  </thead>\n",
       "  <tbody>\n",
       "    <tr>\n",
       "      <th>3664</th>\n",
       "      <td>0.0</td>\n",
       "      <td>0.0</td>\n",
       "      <td>0.0</td>\n",
       "      <td>0.0</td>\n",
       "      <td>0.0</td>\n",
       "      <td>0.0</td>\n",
       "      <td>0.0</td>\n",
       "      <td>0.0</td>\n",
       "      <td>0.0</td>\n",
       "      <td>0.0</td>\n",
       "      <td>...</td>\n",
       "      <td>0.0</td>\n",
       "      <td>0.0</td>\n",
       "      <td>0.0</td>\n",
       "      <td>0.0</td>\n",
       "      <td>0.0</td>\n",
       "      <td>0.0</td>\n",
       "      <td>0.0</td>\n",
       "      <td>0.0</td>\n",
       "      <td>0.0</td>\n",
       "      <td>0.0</td>\n",
       "    </tr>\n",
       "    <tr>\n",
       "      <th>6982</th>\n",
       "      <td>1.0</td>\n",
       "      <td>0.0</td>\n",
       "      <td>0.0</td>\n",
       "      <td>1.0</td>\n",
       "      <td>0.0</td>\n",
       "      <td>0.0</td>\n",
       "      <td>0.0</td>\n",
       "      <td>0.0</td>\n",
       "      <td>0.0</td>\n",
       "      <td>0.0</td>\n",
       "      <td>...</td>\n",
       "      <td>0.0</td>\n",
       "      <td>0.0</td>\n",
       "      <td>0.0</td>\n",
       "      <td>0.0</td>\n",
       "      <td>0.0</td>\n",
       "      <td>0.0</td>\n",
       "      <td>0.0</td>\n",
       "      <td>0.0</td>\n",
       "      <td>0.0</td>\n",
       "      <td>0.0</td>\n",
       "    </tr>\n",
       "    <tr>\n",
       "      <th>798</th>\n",
       "      <td>1.0</td>\n",
       "      <td>0.0</td>\n",
       "      <td>0.0</td>\n",
       "      <td>0.0</td>\n",
       "      <td>0.0</td>\n",
       "      <td>0.0</td>\n",
       "      <td>0.0</td>\n",
       "      <td>0.0</td>\n",
       "      <td>0.0</td>\n",
       "      <td>0.0</td>\n",
       "      <td>...</td>\n",
       "      <td>0.0</td>\n",
       "      <td>0.0</td>\n",
       "      <td>0.0</td>\n",
       "      <td>0.0</td>\n",
       "      <td>0.0</td>\n",
       "      <td>0.0</td>\n",
       "      <td>0.0</td>\n",
       "      <td>0.0</td>\n",
       "      <td>0.0</td>\n",
       "      <td>0.0</td>\n",
       "    </tr>\n",
       "    <tr>\n",
       "      <th>2344</th>\n",
       "      <td>1.0</td>\n",
       "      <td>1.0</td>\n",
       "      <td>0.0</td>\n",
       "      <td>1.0</td>\n",
       "      <td>0.0</td>\n",
       "      <td>0.0</td>\n",
       "      <td>0.0</td>\n",
       "      <td>0.0</td>\n",
       "      <td>0.0</td>\n",
       "      <td>0.0</td>\n",
       "      <td>...</td>\n",
       "      <td>0.0</td>\n",
       "      <td>0.0</td>\n",
       "      <td>0.0</td>\n",
       "      <td>0.0</td>\n",
       "      <td>0.0</td>\n",
       "      <td>0.0</td>\n",
       "      <td>0.0</td>\n",
       "      <td>0.0</td>\n",
       "      <td>0.0</td>\n",
       "      <td>0.0</td>\n",
       "    </tr>\n",
       "    <tr>\n",
       "      <th>6887</th>\n",
       "      <td>1.0</td>\n",
       "      <td>0.0</td>\n",
       "      <td>0.0</td>\n",
       "      <td>0.0</td>\n",
       "      <td>0.0</td>\n",
       "      <td>0.0</td>\n",
       "      <td>0.0</td>\n",
       "      <td>0.0</td>\n",
       "      <td>0.0</td>\n",
       "      <td>0.0</td>\n",
       "      <td>...</td>\n",
       "      <td>0.0</td>\n",
       "      <td>0.0</td>\n",
       "      <td>0.0</td>\n",
       "      <td>1.0</td>\n",
       "      <td>0.0</td>\n",
       "      <td>0.0</td>\n",
       "      <td>0.0</td>\n",
       "      <td>1.0</td>\n",
       "      <td>0.0</td>\n",
       "      <td>0.0</td>\n",
       "    </tr>\n",
       "  </tbody>\n",
       "</table>\n",
       "<p>5 rows × 35 columns</p>\n",
       "</div>"
      ],
      "text/plain": [
       "      related  request  offer  aid_related  medical_help  medical_products  \\\n",
       "3664      0.0      0.0    0.0          0.0           0.0               0.0   \n",
       "6982      1.0      0.0    0.0          1.0           0.0               0.0   \n",
       "798       1.0      0.0    0.0          0.0           0.0               0.0   \n",
       "2344      1.0      1.0    0.0          1.0           0.0               0.0   \n",
       "6887      1.0      0.0    0.0          0.0           0.0               0.0   \n",
       "\n",
       "      search_and_rescue  security  military  child_alone      ...        \\\n",
       "3664                0.0       0.0       0.0          0.0      ...         \n",
       "6982                0.0       0.0       0.0          0.0      ...         \n",
       "798                 0.0       0.0       0.0          0.0      ...         \n",
       "2344                0.0       0.0       0.0          0.0      ...         \n",
       "6887                0.0       0.0       0.0          0.0      ...         \n",
       "\n",
       "      shops  aid_centers  other_infrastructure  weather_related  floods  \\\n",
       "3664    0.0          0.0                   0.0              0.0     0.0   \n",
       "6982    0.0          0.0                   0.0              0.0     0.0   \n",
       "798     0.0          0.0                   0.0              0.0     0.0   \n",
       "2344    0.0          0.0                   0.0              0.0     0.0   \n",
       "6887    0.0          0.0                   0.0              1.0     0.0   \n",
       "\n",
       "      storm  fire  earthquake  cold  other_weather  \n",
       "3664    0.0   0.0         0.0   0.0            0.0  \n",
       "6982    0.0   0.0         0.0   0.0            0.0  \n",
       "798     0.0   0.0         0.0   0.0            0.0  \n",
       "2344    0.0   0.0         0.0   0.0            0.0  \n",
       "6887    0.0   0.0         1.0   0.0            0.0  \n",
       "\n",
       "[5 rows x 35 columns]"
      ]
     },
     "execution_count": 31,
     "metadata": {},
     "output_type": "execute_result"
    }
   ],
   "source": [
    "y_train_2.head()"
   ]
  },
  {
   "cell_type": "code",
   "execution_count": 32,
   "metadata": {
    "scrolled": true
   },
   "outputs": [
    {
     "data": {
      "text/plain": [
       "Pipeline(memory=None,\n",
       "     steps=[('vect', TfidfVectorizer(analyzer='word', binary=False, decode_error='strict',\n",
       "        dtype=<class 'numpy.int64'>, encoding='utf-8', input='content',\n",
       "        lowercase=True, max_df=1.0, max_features=None, min_df=1,\n",
       "        ngram_range=(1, 1), norm='l2', preprocessor=None, smooth_idf=True,\n",
       "  ...ric_params=None, n_jobs=1, n_neighbors=5, p=2,\n",
       "           weights='uniform'),\n",
       "           n_jobs=1))])"
      ]
     },
     "execution_count": 32,
     "metadata": {},
     "output_type": "execute_result"
    }
   ],
   "source": [
    "# Fit model\n",
    "model_2 = pipeline_2\n",
    "model_2.fit(X_train_2, y_train_2)"
   ]
  },
  {
   "cell_type": "code",
   "execution_count": 33,
   "metadata": {},
   "outputs": [],
   "source": [
    "# Predict on test set\n",
    "y_pred_2 = model_2.predict(X_test_2)"
   ]
  },
  {
   "cell_type": "code",
   "execution_count": 34,
   "metadata": {},
   "outputs": [
    {
     "data": {
      "text/plain": [
       "(2045, 35)"
      ]
     },
     "execution_count": 34,
     "metadata": {},
     "output_type": "execute_result"
    }
   ],
   "source": [
    "y_pred_2.shape"
   ]
  },
  {
   "cell_type": "code",
   "execution_count": 35,
   "metadata": {
    "scrolled": true
   },
   "outputs": [
    {
     "data": {
      "text/plain": [
       "{'memory': None,\n",
       " 'steps': [('vect',\n",
       "   TfidfVectorizer(analyzer='word', binary=False, decode_error='strict',\n",
       "           dtype=<class 'numpy.int64'>, encoding='utf-8', input='content',\n",
       "           lowercase=True, max_df=1.0, max_features=None, min_df=1,\n",
       "           ngram_range=(1, 1), norm='l2', preprocessor=None, smooth_idf=True,\n",
       "           stop_words=None, strip_accents=None, sublinear_tf=False,\n",
       "           token_pattern='(?u)\\\\b\\\\w\\\\w+\\\\b',\n",
       "           tokenizer=<function tokenize at 0x7fbde84e58c8>, use_idf=True,\n",
       "           vocabulary=None)),\n",
       "  ('clf',\n",
       "   MultiOutputClassifier(estimator=KNeighborsClassifier(algorithm='auto', leaf_size=30, metric='minkowski',\n",
       "              metric_params=None, n_jobs=1, n_neighbors=5, p=2,\n",
       "              weights='uniform'),\n",
       "              n_jobs=1))],\n",
       " 'vect': TfidfVectorizer(analyzer='word', binary=False, decode_error='strict',\n",
       "         dtype=<class 'numpy.int64'>, encoding='utf-8', input='content',\n",
       "         lowercase=True, max_df=1.0, max_features=None, min_df=1,\n",
       "         ngram_range=(1, 1), norm='l2', preprocessor=None, smooth_idf=True,\n",
       "         stop_words=None, strip_accents=None, sublinear_tf=False,\n",
       "         token_pattern='(?u)\\\\b\\\\w\\\\w+\\\\b',\n",
       "         tokenizer=<function tokenize at 0x7fbde84e58c8>, use_idf=True,\n",
       "         vocabulary=None),\n",
       " 'clf': MultiOutputClassifier(estimator=KNeighborsClassifier(algorithm='auto', leaf_size=30, metric='minkowski',\n",
       "            metric_params=None, n_jobs=1, n_neighbors=5, p=2,\n",
       "            weights='uniform'),\n",
       "            n_jobs=1),\n",
       " 'vect__analyzer': 'word',\n",
       " 'vect__binary': False,\n",
       " 'vect__decode_error': 'strict',\n",
       " 'vect__dtype': numpy.int64,\n",
       " 'vect__encoding': 'utf-8',\n",
       " 'vect__input': 'content',\n",
       " 'vect__lowercase': True,\n",
       " 'vect__max_df': 1.0,\n",
       " 'vect__max_features': None,\n",
       " 'vect__min_df': 1,\n",
       " 'vect__ngram_range': (1, 1),\n",
       " 'vect__norm': 'l2',\n",
       " 'vect__preprocessor': None,\n",
       " 'vect__smooth_idf': True,\n",
       " 'vect__stop_words': None,\n",
       " 'vect__strip_accents': None,\n",
       " 'vect__sublinear_tf': False,\n",
       " 'vect__token_pattern': '(?u)\\\\b\\\\w\\\\w+\\\\b',\n",
       " 'vect__tokenizer': <function __main__.tokenize(text)>,\n",
       " 'vect__use_idf': True,\n",
       " 'vect__vocabulary': None,\n",
       " 'clf__estimator__algorithm': 'auto',\n",
       " 'clf__estimator__leaf_size': 30,\n",
       " 'clf__estimator__metric': 'minkowski',\n",
       " 'clf__estimator__metric_params': None,\n",
       " 'clf__estimator__n_jobs': 1,\n",
       " 'clf__estimator__n_neighbors': 5,\n",
       " 'clf__estimator__p': 2,\n",
       " 'clf__estimator__weights': 'uniform',\n",
       " 'clf__estimator': KNeighborsClassifier(algorithm='auto', leaf_size=30, metric='minkowski',\n",
       "            metric_params=None, n_jobs=1, n_neighbors=5, p=2,\n",
       "            weights='uniform'),\n",
       " 'clf__n_jobs': 1}"
      ]
     },
     "execution_count": 35,
     "metadata": {},
     "output_type": "execute_result"
    }
   ],
   "source": [
    "model_2.get_params()"
   ]
  },
  {
   "cell_type": "code",
   "execution_count": 36,
   "metadata": {
    "scrolled": true
   },
   "outputs": [
    {
     "name": "stdout",
     "output_type": "stream",
     "text": [
      "Mean Accuracy: 0.9286901851205028\n",
      "Std. Accuracy: 0.11972145317161996\n",
      "Hi Accuracy:['cold', 'aid_centers', 'fire', 'military', 'tools', 'shops', 'offer']\n",
      "Lo Accuracy:['aid_related', 'request', 'related', 'weather_related', 'food', 'other_aid', 'shelter']\n"
     ]
    },
    {
     "data": {
      "text/html": [
       "<div>\n",
       "<style scoped>\n",
       "    .dataframe tbody tr th:only-of-type {\n",
       "        vertical-align: middle;\n",
       "    }\n",
       "\n",
       "    .dataframe tbody tr th {\n",
       "        vertical-align: top;\n",
       "    }\n",
       "\n",
       "    .dataframe thead th {\n",
       "        text-align: right;\n",
       "    }\n",
       "</style>\n",
       "<table border=\"1\" class=\"dataframe\">\n",
       "  <thead>\n",
       "    <tr style=\"text-align: right;\">\n",
       "      <th></th>\n",
       "      <th>related</th>\n",
       "      <th>request</th>\n",
       "      <th>offer</th>\n",
       "      <th>aid_related</th>\n",
       "      <th>medical_help</th>\n",
       "      <th>medical_products</th>\n",
       "      <th>search_and_rescue</th>\n",
       "      <th>security</th>\n",
       "      <th>military</th>\n",
       "      <th>child_alone</th>\n",
       "      <th>...</th>\n",
       "      <th>shops</th>\n",
       "      <th>aid_centers</th>\n",
       "      <th>other_infrastructure</th>\n",
       "      <th>weather_related</th>\n",
       "      <th>floods</th>\n",
       "      <th>storm</th>\n",
       "      <th>fire</th>\n",
       "      <th>earthquake</th>\n",
       "      <th>cold</th>\n",
       "      <th>other_weather</th>\n",
       "    </tr>\n",
       "  </thead>\n",
       "  <tbody>\n",
       "    <tr>\n",
       "      <th>confusion_mat</th>\n",
       "      <td>[[164, 532], [269, 1080]]</td>\n",
       "      <td>[[1015, 310], [552, 168]]</td>\n",
       "      <td>[[2044, 0], [1, 0]]</td>\n",
       "      <td>[[894, 355], [578, 218]]</td>\n",
       "      <td>[[1924, 0], [121, 0]]</td>\n",
       "      <td>[[1977, 3], [65, 0]]</td>\n",
       "      <td>[[2002, 0], [43, 0]]</td>\n",
       "      <td>[[2016, 0], [29, 0]]</td>\n",
       "      <td>[[2036, 0], [9, 0]]</td>\n",
       "      <td>[[2045]]</td>\n",
       "      <td>...</td>\n",
       "      <td>[[2039, 0], [6, 0]]</td>\n",
       "      <td>[[2031, 0], [14, 0]]</td>\n",
       "      <td>[[2012, 0], [33, 0]]</td>\n",
       "      <td>[[1686, 49], [302, 8]]</td>\n",
       "      <td>[[1992, 2], [51, 0]]</td>\n",
       "      <td>[[1973, 2], [66, 4]]</td>\n",
       "      <td>[[2033, 0], [12, 0]]</td>\n",
       "      <td>[[1866, 13], [166, 0]]</td>\n",
       "      <td>[[2030, 0], [15, 0]]</td>\n",
       "      <td>[[2006, 1], [38, 0]]</td>\n",
       "    </tr>\n",
       "    <tr>\n",
       "      <th>precision</th>\n",
       "      <td>0.608313</td>\n",
       "      <td>0.578484</td>\n",
       "      <td>0.999511</td>\n",
       "      <td>0.543765</td>\n",
       "      <td>0.940831</td>\n",
       "      <td>0.966748</td>\n",
       "      <td>0.978973</td>\n",
       "      <td>0.985819</td>\n",
       "      <td>0.995599</td>\n",
       "      <td>1</td>\n",
       "      <td>...</td>\n",
       "      <td>0.997066</td>\n",
       "      <td>0.993154</td>\n",
       "      <td>0.983863</td>\n",
       "      <td>0.828362</td>\n",
       "      <td>0.974083</td>\n",
       "      <td>0.966748</td>\n",
       "      <td>0.994132</td>\n",
       "      <td>0.912469</td>\n",
       "      <td>0.992665</td>\n",
       "      <td>0.980929</td>\n",
       "    </tr>\n",
       "    <tr>\n",
       "      <th>recall</th>\n",
       "      <td>0.608313</td>\n",
       "      <td>0.578484</td>\n",
       "      <td>0.999511</td>\n",
       "      <td>0.543765</td>\n",
       "      <td>0.940831</td>\n",
       "      <td>0.966748</td>\n",
       "      <td>0.978973</td>\n",
       "      <td>0.985819</td>\n",
       "      <td>0.995599</td>\n",
       "      <td>1</td>\n",
       "      <td>...</td>\n",
       "      <td>0.997066</td>\n",
       "      <td>0.993154</td>\n",
       "      <td>0.983863</td>\n",
       "      <td>0.828362</td>\n",
       "      <td>0.974083</td>\n",
       "      <td>0.966748</td>\n",
       "      <td>0.994132</td>\n",
       "      <td>0.912469</td>\n",
       "      <td>0.992665</td>\n",
       "      <td>0.980929</td>\n",
       "    </tr>\n",
       "    <tr>\n",
       "      <th>f-score</th>\n",
       "      <td>0.608313</td>\n",
       "      <td>0.578484</td>\n",
       "      <td>0.999511</td>\n",
       "      <td>0.543765</td>\n",
       "      <td>0.940831</td>\n",
       "      <td>0.966748</td>\n",
       "      <td>0.978973</td>\n",
       "      <td>0.985819</td>\n",
       "      <td>0.995599</td>\n",
       "      <td>1</td>\n",
       "      <td>...</td>\n",
       "      <td>0.997066</td>\n",
       "      <td>0.993154</td>\n",
       "      <td>0.983863</td>\n",
       "      <td>0.828362</td>\n",
       "      <td>0.974083</td>\n",
       "      <td>0.966748</td>\n",
       "      <td>0.994132</td>\n",
       "      <td>0.912469</td>\n",
       "      <td>0.992665</td>\n",
       "      <td>0.980929</td>\n",
       "    </tr>\n",
       "  </tbody>\n",
       "</table>\n",
       "<p>4 rows × 35 columns</p>\n",
       "</div>"
      ],
      "text/plain": [
       "                                 related                    request  \\\n",
       "confusion_mat  [[164, 532], [269, 1080]]  [[1015, 310], [552, 168]]   \n",
       "precision                       0.608313                   0.578484   \n",
       "recall                          0.608313                   0.578484   \n",
       "f-score                         0.608313                   0.578484   \n",
       "\n",
       "                             offer               aid_related  \\\n",
       "confusion_mat  [[2044, 0], [1, 0]]  [[894, 355], [578, 218]]   \n",
       "precision                 0.999511                  0.543765   \n",
       "recall                    0.999511                  0.543765   \n",
       "f-score                   0.999511                  0.543765   \n",
       "\n",
       "                        medical_help      medical_products  \\\n",
       "confusion_mat  [[1924, 0], [121, 0]]  [[1977, 3], [65, 0]]   \n",
       "precision                   0.940831              0.966748   \n",
       "recall                      0.940831              0.966748   \n",
       "f-score                     0.940831              0.966748   \n",
       "\n",
       "                  search_and_rescue              security  \\\n",
       "confusion_mat  [[2002, 0], [43, 0]]  [[2016, 0], [29, 0]]   \n",
       "precision                  0.978973              0.985819   \n",
       "recall                     0.978973              0.985819   \n",
       "f-score                    0.978973              0.985819   \n",
       "\n",
       "                          military child_alone          ...           \\\n",
       "confusion_mat  [[2036, 0], [9, 0]]    [[2045]]          ...            \n",
       "precision                 0.995599           1          ...            \n",
       "recall                    0.995599           1          ...            \n",
       "f-score                   0.995599           1          ...            \n",
       "\n",
       "                             shops           aid_centers  \\\n",
       "confusion_mat  [[2039, 0], [6, 0]]  [[2031, 0], [14, 0]]   \n",
       "precision                 0.997066              0.993154   \n",
       "recall                    0.997066              0.993154   \n",
       "f-score                   0.997066              0.993154   \n",
       "\n",
       "               other_infrastructure         weather_related  \\\n",
       "confusion_mat  [[2012, 0], [33, 0]]  [[1686, 49], [302, 8]]   \n",
       "precision                  0.983863                0.828362   \n",
       "recall                     0.983863                0.828362   \n",
       "f-score                    0.983863                0.828362   \n",
       "\n",
       "                             floods                 storm  \\\n",
       "confusion_mat  [[1992, 2], [51, 0]]  [[1973, 2], [66, 4]]   \n",
       "precision                  0.974083              0.966748   \n",
       "recall                     0.974083              0.966748   \n",
       "f-score                    0.974083              0.966748   \n",
       "\n",
       "                               fire              earthquake  \\\n",
       "confusion_mat  [[2033, 0], [12, 0]]  [[1866, 13], [166, 0]]   \n",
       "precision                  0.994132                0.912469   \n",
       "recall                     0.994132                0.912469   \n",
       "f-score                    0.994132                0.912469   \n",
       "\n",
       "                               cold         other_weather  \n",
       "confusion_mat  [[2030, 0], [15, 0]]  [[2006, 1], [38, 0]]  \n",
       "precision                  0.992665              0.980929  \n",
       "recall                     0.992665              0.980929  \n",
       "f-score                    0.992665              0.980929  \n",
       "\n",
       "[4 rows x 35 columns]"
      ]
     },
     "execution_count": 36,
     "metadata": {},
     "output_type": "execute_result"
    },
    {
     "data": {
      "image/png": "[encoded data removed]",
      "text/plain": [
       "<matplotlib.figure.Figure at 0x7fbdab511438>"
      ]
     },
     "metadata": {
      "needs_background": "light"
     },
     "output_type": "display_data"
    }
   ],
   "source": [
    " # display results\n",
    "results_2,mean_accuracy_score_2,std_accuracy_score_2,hi_accuracy_labels_2,lo_accuracy_labels_2=display_results(y_test_2, y_pred_2)\n",
    "print('Mean Accuracy: {}'.format(mean_accuracy_score_2))\n",
    "print('Std. Accuracy: {}'.format(std_accuracy_score_2))\n",
    "print('Hi Accuracy:{}'.format(hi_accuracy_labels_2))\n",
    "print('Lo Accuracy:{}'.format(lo_accuracy_labels_2))\n",
    "results_2"
   ]
  },
  {
   "cell_type": "markdown",
   "metadata": {},
   "source": [
    "### Both RFC and KNC classifiers seem to give very similar accuracy results. Results are slightly higher with Grid Search (95%), which is implemented in the IDE due to large time required to fit the model"
   ]
  },
  {
   "cell_type": "markdown",
   "metadata": {},
   "source": [
    "### 9. Export your model as a pickle file"
   ]
  },
  {
   "cell_type": "code",
   "execution_count": 37,
   "metadata": {},
   "outputs": [],
   "source": [
    "outfile=open(\"classifier.pkl\",'wb')\n",
    "pickle.dump( model,outfile  )\n",
    "outfile.close()"
   ]
  },
  {
   "cell_type": "markdown",
   "metadata": {},
   "source": [
    "### 10. Use this notebook to complete `train.py`\n",
    "Use the template file attached in the Resources folder to write a script that runs the steps above to create a database and export a model based on a new dataset specified by the user."
   ]
  }
 ],
 "metadata": {
  "kernelspec": {
   "display_name": "Python 3",
   "language": "python",
   "name": "python3"
  },
  "language_info": {
   "codemirror_mode": {
    "name": "ipython",
    "version": 3
   },
   "file_extension": ".py",
   "mimetype": "text/x-python",
   "name": "python",
   "nbconvert_exporter": "python",
   "pygments_lexer": "ipython3",
   "version": "3.6.3"
  }
 },
 "nbformat": 4,
 "nbformat_minor": 2
}
